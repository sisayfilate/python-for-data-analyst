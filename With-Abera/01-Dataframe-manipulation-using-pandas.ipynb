{
 "cells": [
  {
   "cell_type": "code",
   "execution_count": 20,
   "metadata": {},
   "outputs": [],
   "source": [
    "# import pandas\n",
    "import pandas as pd\n",
    "import numpy as np"
   ]
  },
  {
   "cell_type": "code",
   "execution_count": 16,
   "metadata": {},
   "outputs": [
    {
     "data": {
      "text/plain": [
       "[0, 2]"
      ]
     },
     "execution_count": 16,
     "metadata": {},
     "output_type": "execute_result"
    }
   ],
   "source": [
    "list(range(0,4,2))"
   ]
  },
  {
   "attachments": {},
   "cell_type": "markdown",
   "metadata": {},
   "source": [
    "I hope you all are familiar with ```Python range()``` function by now. If not here you go.  \n",
    "\n",
    "The `range()` function returns a sequence of numbers, starting from 0 by default, and increments by 1 (by default), and stops before a specified number."
   ]
  },
  {
   "cell_type": "code",
   "execution_count": 17,
   "metadata": {},
   "outputs": [
    {
     "data": {
      "text/plain": [
       "[21, 19, 17]"
      ]
     },
     "execution_count": 17,
     "metadata": {},
     "output_type": "execute_result"
    }
   ],
   "source": [
    "list(range(21, 15, -2)) # 21, 19, 17"
   ]
  },
  {
   "attachments": {},
   "cell_type": "markdown",
   "metadata": {},
   "source": [
    "Let’s now create DataFrame from dictionary in Pandas."
   ]
  },
  {
   "cell_type": "code",
   "execution_count": 23,
   "metadata": {},
   "outputs": [
    {
     "data": {
      "text/html": [
       "<div>\n",
       "<style scoped>\n",
       "    .dataframe tbody tr th:only-of-type {\n",
       "        vertical-align: middle;\n",
       "    }\n",
       "\n",
       "    .dataframe tbody tr th {\n",
       "        vertical-align: top;\n",
       "    }\n",
       "\n",
       "    .dataframe thead th {\n",
       "        text-align: right;\n",
       "    }\n",
       "</style>\n",
       "<table border=\"1\" class=\"dataframe\">\n",
       "  <thead>\n",
       "    <tr style=\"text-align: right;\">\n",
       "      <th></th>\n",
       "      <th>s</th>\n",
       "      <th>x</th>\n",
       "    </tr>\n",
       "  </thead>\n",
       "  <tbody>\n",
       "    <tr>\n",
       "      <th>0</th>\n",
       "      <td>x</td>\n",
       "      <td>y</td>\n",
       "    </tr>\n",
       "    <tr>\n",
       "      <th>1</th>\n",
       "      <td>a</td>\n",
       "      <td>b</td>\n",
       "    </tr>\n",
       "    <tr>\n",
       "      <th>2</th>\n",
       "      <td>1</td>\n",
       "      <td>2</td>\n",
       "    </tr>\n",
       "  </tbody>\n",
       "</table>\n",
       "</div>"
      ],
      "text/plain": [
       "   s  x\n",
       "0  x  y\n",
       "1  a  b\n",
       "2  1  2"
      ]
     },
     "execution_count": 23,
     "metadata": {},
     "output_type": "execute_result"
    }
   ],
   "source": [
    "input_lists = np.array([\n",
    "    ['x','y'],\n",
    "    ['a','b'],\n",
    "    ['1','2']\n",
    "])\n",
    "\n",
    "df = pd.DataFrame(data=input_lists, columns=['s','x'])\n",
    "df.head()"
   ]
  },
  {
   "cell_type": "code",
   "execution_count": 24,
   "metadata": {},
   "outputs": [
    {
     "data": {
      "text/html": [
       "<div>\n",
       "<style scoped>\n",
       "    .dataframe tbody tr th:only-of-type {\n",
       "        vertical-align: middle;\n",
       "    }\n",
       "\n",
       "    .dataframe tbody tr th {\n",
       "        vertical-align: top;\n",
       "    }\n",
       "\n",
       "    .dataframe thead th {\n",
       "        text-align: right;\n",
       "    }\n",
       "</style>\n",
       "<table border=\"1\" class=\"dataframe\">\n",
       "  <thead>\n",
       "    <tr style=\"text-align: right;\">\n",
       "      <th></th>\n",
       "      <th>s</th>\n",
       "      <th>x</th>\n",
       "    </tr>\n",
       "  </thead>\n",
       "  <tbody>\n",
       "    <tr>\n",
       "      <th>0</th>\n",
       "      <td>x</td>\n",
       "      <td>y</td>\n",
       "    </tr>\n",
       "    <tr>\n",
       "      <th>1</th>\n",
       "      <td>a</td>\n",
       "      <td>b</td>\n",
       "    </tr>\n",
       "    <tr>\n",
       "      <th>2</th>\n",
       "      <td>1</td>\n",
       "      <td>2</td>\n",
       "    </tr>\n",
       "  </tbody>\n",
       "</table>\n",
       "</div>"
      ],
      "text/plain": [
       "   s  x\n",
       "0  x  y\n",
       "1  a  b\n",
       "2  1  2"
      ]
     },
     "execution_count": 24,
     "metadata": {},
     "output_type": "execute_result"
    }
   ],
   "source": [
    "input_dicts = {\n",
    "    # 'column_name': [list of column values],\n",
    "    's': ['x','a','1'],\n",
    "    'x': ['y','b','2']\n",
    "}\n",
    "\n",
    "df = pd.DataFrame(data=input_dicts)\n",
    "df.head()"
   ]
  },
  {
   "cell_type": "code",
   "execution_count": 25,
   "metadata": {},
   "outputs": [
    {
     "data": {
      "text/html": [
       "<div>\n",
       "<style scoped>\n",
       "    .dataframe tbody tr th:only-of-type {\n",
       "        vertical-align: middle;\n",
       "    }\n",
       "\n",
       "    .dataframe tbody tr th {\n",
       "        vertical-align: top;\n",
       "    }\n",
       "\n",
       "    .dataframe thead th {\n",
       "        text-align: right;\n",
       "    }\n",
       "</style>\n",
       "<table border=\"1\" class=\"dataframe\">\n",
       "  <thead>\n",
       "    <tr style=\"text-align: right;\">\n",
       "      <th></th>\n",
       "      <th>emp_no</th>\n",
       "      <th>emp_name</th>\n",
       "      <th>dept_name</th>\n",
       "    </tr>\n",
       "  </thead>\n",
       "  <tbody>\n",
       "    <tr>\n",
       "      <th>0</th>\n",
       "      <td>1</td>\n",
       "      <td>Adam</td>\n",
       "      <td>IT</td>\n",
       "    </tr>\n",
       "    <tr>\n",
       "      <th>1</th>\n",
       "      <td>1</td>\n",
       "      <td>Adam</td>\n",
       "      <td>IT</td>\n",
       "    </tr>\n",
       "    <tr>\n",
       "      <th>2</th>\n",
       "      <td>2</td>\n",
       "      <td>Peter</td>\n",
       "      <td>HR</td>\n",
       "    </tr>\n",
       "    <tr>\n",
       "      <th>3</th>\n",
       "      <td>3</td>\n",
       "      <td>Christopher</td>\n",
       "      <td>Finance</td>\n",
       "    </tr>\n",
       "    <tr>\n",
       "      <th>4</th>\n",
       "      <td>3</td>\n",
       "      <td>Christopher</td>\n",
       "      <td>Finance</td>\n",
       "    </tr>\n",
       "  </tbody>\n",
       "</table>\n",
       "</div>"
      ],
      "text/plain": [
       "  emp_no     emp_name dept_name\n",
       "0      1         Adam        IT\n",
       "1      1         Adam        IT\n",
       "2      2        Peter        HR\n",
       "3      3  Christopher   Finance\n",
       "4      3  Christopher   Finance"
      ]
     },
     "execution_count": 25,
     "metadata": {},
     "output_type": "execute_result"
    }
   ],
   "source": [
    "df = pd.DataFrame(np.array(\n",
    "    [\n",
    "        [1, 'Adam', 'IT'],\n",
    "        [1, 'Adam', 'IT'],\n",
    "        [2, 'Peter', 'HR'],\n",
    "        [3, 'Christopher', 'Finance'],\n",
    "        [3, 'Christopher', 'Finance'],\n",
    "        [4, 'Alan', 'IT'],\n",
    "        [5, 'Mayank', 'HR'],\n",
    "        [5, 'Mayank', 'HR']\n",
    "    ]), \n",
    "columns= ['emp_no', 'emp_name', 'dept_name'])\n",
    "\n",
    "df.head()"
   ]
  },
  {
   "cell_type": "code",
   "execution_count": 30,
   "metadata": {},
   "outputs": [
    {
     "data": {
      "text/html": [
       "<div>\n",
       "<style scoped>\n",
       "    .dataframe tbody tr th:only-of-type {\n",
       "        vertical-align: middle;\n",
       "    }\n",
       "\n",
       "    .dataframe tbody tr th {\n",
       "        vertical-align: top;\n",
       "    }\n",
       "\n",
       "    .dataframe thead th {\n",
       "        text-align: right;\n",
       "    }\n",
       "</style>\n",
       "<table border=\"1\" class=\"dataframe\">\n",
       "  <thead>\n",
       "    <tr style=\"text-align: right;\">\n",
       "      <th></th>\n",
       "      <th>ID</th>\n",
       "      <th>First_name</th>\n",
       "      <th>Last_name</th>\n",
       "      <th>Range</th>\n",
       "    </tr>\n",
       "  </thead>\n",
       "  <tbody>\n",
       "    <tr>\n",
       "      <th>0</th>\n",
       "      <td>101</td>\n",
       "      <td>Abebe</td>\n",
       "      <td>Balcha</td>\n",
       "      <td>20</td>\n",
       "    </tr>\n",
       "    <tr>\n",
       "      <th>1</th>\n",
       "      <td>102</td>\n",
       "      <td>Hirut</td>\n",
       "      <td>Demse</td>\n",
       "      <td>18</td>\n",
       "    </tr>\n",
       "    <tr>\n",
       "      <th>2</th>\n",
       "      <td>103</td>\n",
       "      <td>Eyob</td>\n",
       "      <td>Mekonen</td>\n",
       "      <td>16</td>\n",
       "    </tr>\n",
       "    <tr>\n",
       "      <th>3</th>\n",
       "      <td>104</td>\n",
       "      <td>Mikaya</td>\n",
       "      <td>Bahaylu</td>\n",
       "      <td>14</td>\n",
       "    </tr>\n",
       "    <tr>\n",
       "      <th>4</th>\n",
       "      <td>105</td>\n",
       "      <td>Lij</td>\n",
       "      <td>Mechael</td>\n",
       "      <td>12</td>\n",
       "    </tr>\n",
       "    <tr>\n",
       "      <th>5</th>\n",
       "      <td>106</td>\n",
       "      <td>Tedy</td>\n",
       "      <td>Afro</td>\n",
       "      <td>10</td>\n",
       "    </tr>\n",
       "  </tbody>\n",
       "</table>\n",
       "</div>"
      ],
      "text/plain": [
       "    ID First_name Last_name  Range\n",
       "0  101      Abebe    Balcha     20\n",
       "1  102      Hirut     Demse     18\n",
       "2  103       Eyob   Mekonen     16\n",
       "3  104     Mikaya   Bahaylu     14\n",
       "4  105        Lij   Mechael     12\n",
       "5  106       Tedy      Afro     10"
      ]
     },
     "execution_count": 30,
     "metadata": {},
     "output_type": "execute_result"
    }
   ],
   "source": [
    "# Create pandas DataFrame\n",
    "data = {\n",
    "    \"ID\":range(101,107),\n",
    "    \"First_name\":[\"Abebe\", \"Hirut\", \"Eyob\", \"Mikaya\", \"Lij\", \"Tedy\"],  \n",
    "    \"Last_name\":[\"Balcha\", \"Demse\", \"Mekonen\", \"Bahaylu\", \"Mechael\", \"Afro\"],\n",
    "    \"Range\":range(20, 8, - 2)}\n",
    "df = pd.DataFrame(data)\n",
    "df.head(10)"
   ]
  },
  {
   "cell_type": "code",
   "execution_count": 31,
   "metadata": {},
   "outputs": [
    {
     "data": {
      "text/html": [
       "<div>\n",
       "<style scoped>\n",
       "    .dataframe tbody tr th:only-of-type {\n",
       "        vertical-align: middle;\n",
       "    }\n",
       "\n",
       "    .dataframe tbody tr th {\n",
       "        vertical-align: top;\n",
       "    }\n",
       "\n",
       "    .dataframe thead th {\n",
       "        text-align: right;\n",
       "    }\n",
       "</style>\n",
       "<table border=\"1\" class=\"dataframe\">\n",
       "  <thead>\n",
       "    <tr style=\"text-align: right;\">\n",
       "      <th></th>\n",
       "      <th>First_name</th>\n",
       "      <th>Last_name</th>\n",
       "    </tr>\n",
       "  </thead>\n",
       "  <tbody>\n",
       "    <tr>\n",
       "      <th>0</th>\n",
       "      <td>Abebe</td>\n",
       "      <td>Balcha</td>\n",
       "    </tr>\n",
       "    <tr>\n",
       "      <th>1</th>\n",
       "      <td>Hirut</td>\n",
       "      <td>Demse</td>\n",
       "    </tr>\n",
       "    <tr>\n",
       "      <th>2</th>\n",
       "      <td>Eyob</td>\n",
       "      <td>Mekonen</td>\n",
       "    </tr>\n",
       "    <tr>\n",
       "      <th>3</th>\n",
       "      <td>Mikaya</td>\n",
       "      <td>Bahaylu</td>\n",
       "    </tr>\n",
       "    <tr>\n",
       "      <th>4</th>\n",
       "      <td>Lij</td>\n",
       "      <td>Mechael</td>\n",
       "    </tr>\n",
       "    <tr>\n",
       "      <th>5</th>\n",
       "      <td>Tedy</td>\n",
       "      <td>Afro</td>\n",
       "    </tr>\n",
       "  </tbody>\n",
       "</table>\n",
       "</div>"
      ],
      "text/plain": [
       "  First_name Last_name\n",
       "0      Abebe    Balcha\n",
       "1      Hirut     Demse\n",
       "2       Eyob   Mekonen\n",
       "3     Mikaya   Bahaylu\n",
       "4        Lij   Mechael\n",
       "5       Tedy      Afro"
      ]
     },
     "execution_count": 31,
     "metadata": {},
     "output_type": "execute_result"
    }
   ],
   "source": [
    "# df[list of column names]\n",
    "# ['column1', 'column2', 'column100']\n",
    "\n",
    "# df[['column1', 'column2', 'column100']]\n",
    "\n",
    "\n",
    "new_df = df[['First_name', 'Last_name']].head(20)\n",
    "new_df"
   ]
  },
  {
   "cell_type": "code",
   "execution_count": 32,
   "metadata": {},
   "outputs": [
    {
     "data": {
      "text/html": [
       "<div>\n",
       "<style scoped>\n",
       "    .dataframe tbody tr th:only-of-type {\n",
       "        vertical-align: middle;\n",
       "    }\n",
       "\n",
       "    .dataframe tbody tr th {\n",
       "        vertical-align: top;\n",
       "    }\n",
       "\n",
       "    .dataframe thead th {\n",
       "        text-align: right;\n",
       "    }\n",
       "</style>\n",
       "<table border=\"1\" class=\"dataframe\">\n",
       "  <thead>\n",
       "    <tr style=\"text-align: right;\">\n",
       "      <th></th>\n",
       "      <th>First_name</th>\n",
       "      <th>Last_name</th>\n",
       "    </tr>\n",
       "  </thead>\n",
       "  <tbody>\n",
       "    <tr>\n",
       "      <th>0</th>\n",
       "      <td>Abebe</td>\n",
       "      <td>Balcha</td>\n",
       "    </tr>\n",
       "    <tr>\n",
       "      <th>1</th>\n",
       "      <td>Hirut</td>\n",
       "      <td>Demse</td>\n",
       "    </tr>\n",
       "    <tr>\n",
       "      <th>2</th>\n",
       "      <td>Eyob</td>\n",
       "      <td>Mekonen</td>\n",
       "    </tr>\n",
       "    <tr>\n",
       "      <th>3</th>\n",
       "      <td>Mikaya</td>\n",
       "      <td>Bahaylu</td>\n",
       "    </tr>\n",
       "    <tr>\n",
       "      <th>4</th>\n",
       "      <td>Lij</td>\n",
       "      <td>Mechael</td>\n",
       "    </tr>\n",
       "    <tr>\n",
       "      <th>5</th>\n",
       "      <td>Tedy</td>\n",
       "      <td>Afro</td>\n",
       "    </tr>\n",
       "  </tbody>\n",
       "</table>\n",
       "</div>"
      ],
      "text/plain": [
       "  First_name Last_name\n",
       "0      Abebe    Balcha\n",
       "1      Hirut     Demse\n",
       "2       Eyob   Mekonen\n",
       "3     Mikaya   Bahaylu\n",
       "4        Lij   Mechael\n",
       "5       Tedy      Afro"
      ]
     },
     "execution_count": 32,
     "metadata": {},
     "output_type": "execute_result"
    }
   ],
   "source": [
    "cols = ['First_name', 'Last_name']# , 'Sequence', 'Range']\n",
    "df_new = df[cols]\n",
    "df_new"
   ]
  },
  {
   "cell_type": "code",
   "execution_count": 33,
   "metadata": {},
   "outputs": [],
   "source": [
    "# new = df['Sequence']\n",
    "# df.drop('Sequence', axis=1, inplace=True)\n",
    "# # df.insert[2, 'Sequence'] = new\n",
    "# df['Sequence'] = new\n",
    "# df"
   ]
  },
  {
   "cell_type": "code",
   "execution_count": null,
   "metadata": {},
   "outputs": [],
   "source": [
    "# Method 1: drop()\n",
    "# Mehtod 2: cols=['First_name','Sequence','Last_name']\n",
    "# df_new = df[cols]"
   ]
  },
  {
   "attachments": {},
   "cell_type": "markdown",
   "metadata": {},
   "source": [
    "To drop a column, use `drop()` method by providing the `axis=1` if you are trying to drop a column from a DataFrame.\n",
    "\n",
    "Or yous a `drop(columns='')` if that is easier for you "
   ]
  },
  {
   "cell_type": "code",
   "execution_count": 42,
   "metadata": {},
   "outputs": [
    {
     "data": {
      "text/html": [
       "<div>\n",
       "<style scoped>\n",
       "    .dataframe tbody tr th:only-of-type {\n",
       "        vertical-align: middle;\n",
       "    }\n",
       "\n",
       "    .dataframe tbody tr th {\n",
       "        vertical-align: top;\n",
       "    }\n",
       "\n",
       "    .dataframe thead th {\n",
       "        text-align: right;\n",
       "    }\n",
       "</style>\n",
       "<table border=\"1\" class=\"dataframe\">\n",
       "  <thead>\n",
       "    <tr style=\"text-align: right;\">\n",
       "      <th></th>\n",
       "      <th>ID</th>\n",
       "      <th>First_name</th>\n",
       "      <th>Last_name</th>\n",
       "      <th>Range</th>\n",
       "    </tr>\n",
       "  </thead>\n",
       "  <tbody>\n",
       "    <tr>\n",
       "      <th>0</th>\n",
       "      <td>101</td>\n",
       "      <td>Abebe</td>\n",
       "      <td>Balcha</td>\n",
       "      <td>20</td>\n",
       "    </tr>\n",
       "    <tr>\n",
       "      <th>1</th>\n",
       "      <td>102</td>\n",
       "      <td>Hirut</td>\n",
       "      <td>Demse</td>\n",
       "      <td>18</td>\n",
       "    </tr>\n",
       "    <tr>\n",
       "      <th>2</th>\n",
       "      <td>103</td>\n",
       "      <td>Eyob</td>\n",
       "      <td>Mekonen</td>\n",
       "      <td>16</td>\n",
       "    </tr>\n",
       "    <tr>\n",
       "      <th>3</th>\n",
       "      <td>104</td>\n",
       "      <td>Mikaya</td>\n",
       "      <td>Bahaylu</td>\n",
       "      <td>14</td>\n",
       "    </tr>\n",
       "    <tr>\n",
       "      <th>4</th>\n",
       "      <td>105</td>\n",
       "      <td>Lij</td>\n",
       "      <td>Mechael</td>\n",
       "      <td>12</td>\n",
       "    </tr>\n",
       "    <tr>\n",
       "      <th>5</th>\n",
       "      <td>106</td>\n",
       "      <td>Tedy</td>\n",
       "      <td>Afro</td>\n",
       "      <td>10</td>\n",
       "    </tr>\n",
       "  </tbody>\n",
       "</table>\n",
       "</div>"
      ],
      "text/plain": [
       "    ID First_name Last_name  Range\n",
       "0  101      Abebe    Balcha     20\n",
       "1  102      Hirut     Demse     18\n",
       "2  103       Eyob   Mekonen     16\n",
       "3  104     Mikaya   Bahaylu     14\n",
       "4  105        Lij   Mechael     12\n",
       "5  106       Tedy      Afro     10"
      ]
     },
     "execution_count": 42,
     "metadata": {},
     "output_type": "execute_result"
    }
   ],
   "source": [
    "df.head(10)"
   ]
  },
  {
   "cell_type": "code",
   "execution_count": 43,
   "metadata": {},
   "outputs": [
    {
     "data": {
      "text/html": [
       "<div>\n",
       "<style scoped>\n",
       "    .dataframe tbody tr th:only-of-type {\n",
       "        vertical-align: middle;\n",
       "    }\n",
       "\n",
       "    .dataframe tbody tr th {\n",
       "        vertical-align: top;\n",
       "    }\n",
       "\n",
       "    .dataframe thead th {\n",
       "        text-align: right;\n",
       "    }\n",
       "</style>\n",
       "<table border=\"1\" class=\"dataframe\">\n",
       "  <thead>\n",
       "    <tr style=\"text-align: right;\">\n",
       "      <th></th>\n",
       "      <th>ID</th>\n",
       "      <th>First_name</th>\n",
       "      <th>Last_name</th>\n",
       "    </tr>\n",
       "  </thead>\n",
       "  <tbody>\n",
       "    <tr>\n",
       "      <th>0</th>\n",
       "      <td>101</td>\n",
       "      <td>Abebe</td>\n",
       "      <td>Balcha</td>\n",
       "    </tr>\n",
       "    <tr>\n",
       "      <th>1</th>\n",
       "      <td>102</td>\n",
       "      <td>Hirut</td>\n",
       "      <td>Demse</td>\n",
       "    </tr>\n",
       "    <tr>\n",
       "      <th>2</th>\n",
       "      <td>103</td>\n",
       "      <td>Eyob</td>\n",
       "      <td>Mekonen</td>\n",
       "    </tr>\n",
       "    <tr>\n",
       "      <th>3</th>\n",
       "      <td>104</td>\n",
       "      <td>Mikaya</td>\n",
       "      <td>Bahaylu</td>\n",
       "    </tr>\n",
       "    <tr>\n",
       "      <th>4</th>\n",
       "      <td>105</td>\n",
       "      <td>Lij</td>\n",
       "      <td>Mechael</td>\n",
       "    </tr>\n",
       "  </tbody>\n",
       "</table>\n",
       "</div>"
      ],
      "text/plain": [
       "    ID First_name Last_name\n",
       "0  101      Abebe    Balcha\n",
       "1  102      Hirut     Demse\n",
       "2  103       Eyob   Mekonen\n",
       "3  104     Mikaya   Bahaylu\n",
       "4  105        Lij   Mechael"
      ]
     },
     "execution_count": 43,
     "metadata": {},
     "output_type": "execute_result"
    }
   ],
   "source": [
    "x_df = df[['ID','First_name','Last_name']]\n",
    "x_df.head()"
   ]
  },
  {
   "cell_type": "code",
   "execution_count": 57,
   "metadata": {},
   "outputs": [
    {
     "data": {
      "text/plain": [
       "Index(['ID', 'First_name', 'Last_name', 'Range'], dtype='object')"
      ]
     },
     "execution_count": 57,
     "metadata": {},
     "output_type": "execute_result"
    }
   ],
   "source": [
    "df.columns"
   ]
  },
  {
   "cell_type": "code",
   "execution_count": 58,
   "metadata": {},
   "outputs": [
    {
     "data": {
      "text/html": [
       "<div>\n",
       "<style scoped>\n",
       "    .dataframe tbody tr th:only-of-type {\n",
       "        vertical-align: middle;\n",
       "    }\n",
       "\n",
       "    .dataframe tbody tr th {\n",
       "        vertical-align: top;\n",
       "    }\n",
       "\n",
       "    .dataframe thead th {\n",
       "        text-align: right;\n",
       "    }\n",
       "</style>\n",
       "<table border=\"1\" class=\"dataframe\">\n",
       "  <thead>\n",
       "    <tr style=\"text-align: right;\">\n",
       "      <th></th>\n",
       "      <th>ID</th>\n",
       "      <th>First_name</th>\n",
       "      <th>Last_name</th>\n",
       "    </tr>\n",
       "  </thead>\n",
       "  <tbody>\n",
       "    <tr>\n",
       "      <th>0</th>\n",
       "      <td>101</td>\n",
       "      <td>Abebe</td>\n",
       "      <td>Balcha</td>\n",
       "    </tr>\n",
       "    <tr>\n",
       "      <th>1</th>\n",
       "      <td>102</td>\n",
       "      <td>Hirut</td>\n",
       "      <td>Demse</td>\n",
       "    </tr>\n",
       "    <tr>\n",
       "      <th>2</th>\n",
       "      <td>103</td>\n",
       "      <td>Eyob</td>\n",
       "      <td>Mekonen</td>\n",
       "    </tr>\n",
       "    <tr>\n",
       "      <th>3</th>\n",
       "      <td>104</td>\n",
       "      <td>Mikaya</td>\n",
       "      <td>Bahaylu</td>\n",
       "    </tr>\n",
       "    <tr>\n",
       "      <th>4</th>\n",
       "      <td>105</td>\n",
       "      <td>Lij</td>\n",
       "      <td>Mechael</td>\n",
       "    </tr>\n",
       "    <tr>\n",
       "      <th>5</th>\n",
       "      <td>106</td>\n",
       "      <td>Tedy</td>\n",
       "      <td>Afro</td>\n",
       "    </tr>\n",
       "  </tbody>\n",
       "</table>\n",
       "</div>"
      ],
      "text/plain": [
       "    ID First_name Last_name\n",
       "0  101      Abebe    Balcha\n",
       "1  102      Hirut     Demse\n",
       "2  103       Eyob   Mekonen\n",
       "3  104     Mikaya   Bahaylu\n",
       "4  105        Lij   Mechael\n",
       "5  106       Tedy      Afro"
      ]
     },
     "execution_count": 58,
     "metadata": {},
     "output_type": "execute_result"
    }
   ],
   "source": [
    "# Drop variable from DataFrame -->> x3 \n",
    "df_droped = df.drop(columns='Range', axis=1)\n",
    "df_droped"
   ]
  },
  {
   "cell_type": "code",
   "execution_count": 5,
   "metadata": {},
   "outputs": [
    {
     "data": {
      "text/html": [
       "<div>\n",
       "<style scoped>\n",
       "    .dataframe tbody tr th:only-of-type {\n",
       "        vertical-align: middle;\n",
       "    }\n",
       "\n",
       "    .dataframe tbody tr th {\n",
       "        vertical-align: top;\n",
       "    }\n",
       "\n",
       "    .dataframe thead th {\n",
       "        text-align: right;\n",
       "    }\n",
       "</style>\n",
       "<table border=\"1\" class=\"dataframe\">\n",
       "  <thead>\n",
       "    <tr style=\"text-align: right;\">\n",
       "      <th></th>\n",
       "      <th>First_name</th>\n",
       "      <th>Sequence</th>\n",
       "      <th>Last_name</th>\n",
       "    </tr>\n",
       "  </thead>\n",
       "  <tbody>\n",
       "    <tr>\n",
       "      <th>0</th>\n",
       "      <td>Abebe</td>\n",
       "      <td>15</td>\n",
       "      <td>Balcha</td>\n",
       "    </tr>\n",
       "    <tr>\n",
       "      <th>1</th>\n",
       "      <td>Hirut</td>\n",
       "      <td>16</td>\n",
       "      <td>Demse</td>\n",
       "    </tr>\n",
       "    <tr>\n",
       "      <th>2</th>\n",
       "      <td>Eyob</td>\n",
       "      <td>17</td>\n",
       "      <td>Mekonen</td>\n",
       "    </tr>\n",
       "    <tr>\n",
       "      <th>3</th>\n",
       "      <td>Mikaya</td>\n",
       "      <td>18</td>\n",
       "      <td>Bahaylu</td>\n",
       "    </tr>\n",
       "    <tr>\n",
       "      <th>4</th>\n",
       "      <td>Lij</td>\n",
       "      <td>19</td>\n",
       "      <td>Mechael</td>\n",
       "    </tr>\n",
       "    <tr>\n",
       "      <th>5</th>\n",
       "      <td>Tedy</td>\n",
       "      <td>20</td>\n",
       "      <td>Afro</td>\n",
       "    </tr>\n",
       "  </tbody>\n",
       "</table>\n",
       "</div>"
      ],
      "text/plain": [
       "  First_name  Sequence Last_name\n",
       "0      Abebe        15    Balcha\n",
       "1      Hirut        16     Demse\n",
       "2       Eyob        17   Mekonen\n",
       "3     Mikaya        18   Bahaylu\n",
       "4        Lij        19   Mechael\n",
       "5       Tedy        20      Afro"
      ]
     },
     "execution_count": 5,
     "metadata": {},
     "output_type": "execute_result"
    }
   ],
   "source": [
    "df_droped_2 = df.drop(columns='Range')\n",
    "df_droped_2"
   ]
  },
  {
   "cell_type": "code",
   "execution_count": 105,
   "metadata": {},
   "outputs": [
    {
     "data": {
      "text/html": [
       "<div>\n",
       "<style scoped>\n",
       "    .dataframe tbody tr th:only-of-type {\n",
       "        vertical-align: middle;\n",
       "    }\n",
       "\n",
       "    .dataframe tbody tr th {\n",
       "        vertical-align: top;\n",
       "    }\n",
       "\n",
       "    .dataframe thead th {\n",
       "        text-align: right;\n",
       "    }\n",
       "</style>\n",
       "<table border=\"1\" class=\"dataframe\">\n",
       "  <thead>\n",
       "    <tr style=\"text-align: right;\">\n",
       "      <th></th>\n",
       "      <th>ID</th>\n",
       "      <th>First_name</th>\n",
       "      <th>Last_name</th>\n",
       "      <th>Range</th>\n",
       "      <th>Middle_initials</th>\n",
       "    </tr>\n",
       "  </thead>\n",
       "  <tbody>\n",
       "    <tr>\n",
       "      <th>0</th>\n",
       "      <td>101</td>\n",
       "      <td>Abebe</td>\n",
       "      <td>Balcha</td>\n",
       "      <td>20</td>\n",
       "      <td>S</td>\n",
       "    </tr>\n",
       "    <tr>\n",
       "      <th>1</th>\n",
       "      <td>102</td>\n",
       "      <td>Hirut</td>\n",
       "      <td>Demse</td>\n",
       "      <td>18</td>\n",
       "      <td>M</td>\n",
       "    </tr>\n",
       "    <tr>\n",
       "      <th>2</th>\n",
       "      <td>103</td>\n",
       "      <td>Eyob</td>\n",
       "      <td>Mekonen</td>\n",
       "      <td>16</td>\n",
       "      <td>F</td>\n",
       "    </tr>\n",
       "    <tr>\n",
       "      <th>3</th>\n",
       "      <td>104</td>\n",
       "      <td>Mikaya</td>\n",
       "      <td>Bahaylu</td>\n",
       "      <td>14</td>\n",
       "      <td>T</td>\n",
       "    </tr>\n",
       "    <tr>\n",
       "      <th>4</th>\n",
       "      <td>105</td>\n",
       "      <td>Lij</td>\n",
       "      <td>Mechael</td>\n",
       "      <td>12</td>\n",
       "      <td>F</td>\n",
       "    </tr>\n",
       "    <tr>\n",
       "      <th>5</th>\n",
       "      <td>106</td>\n",
       "      <td>Tedy</td>\n",
       "      <td>Afro</td>\n",
       "      <td>10</td>\n",
       "      <td>A</td>\n",
       "    </tr>\n",
       "  </tbody>\n",
       "</table>\n",
       "</div>"
      ],
      "text/plain": [
       "    ID First_name Last_name  Range Middle_initials\n",
       "0  101      Abebe    Balcha     20               S\n",
       "1  102      Hirut     Demse     18               M\n",
       "2  103       Eyob   Mekonen     16               F\n",
       "3  104     Mikaya   Bahaylu     14               T\n",
       "4  105        Lij   Mechael     12               F\n",
       "5  106       Tedy      Afro     10               A"
      ]
     },
     "execution_count": 105,
     "metadata": {},
     "output_type": "execute_result"
    }
   ],
   "source": [
    "# add new column --> x5 \n",
    "# first let's copy our above dataframe\n",
    "df_add = df.copy()\n",
    "\n",
    "# df['your_new_column_name_to_add'] = value (this value is usually a 1D list)\n",
    "\n",
    "# then let's add a new column \n",
    "value = [\"S\", \"M\", \"F\", \"T\", \"F\", \"A\"]\n",
    "df_add['Middle_initials'] = value\n",
    "df_add\n",
    "# Abebe Balcha \n",
    "#  abebe.balcha@gmail.com"
   ]
  },
  {
   "cell_type": "code",
   "execution_count": 67,
   "metadata": {},
   "outputs": [
    {
     "data": {
      "text/plain": [
       "0     Abebe\n",
       "1     Hirut\n",
       "2      Eyob\n",
       "3    Mikaya\n",
       "4       Lij\n",
       "5      Tedy\n",
       "Name: First_name, dtype: object"
      ]
     },
     "execution_count": 67,
     "metadata": {},
     "output_type": "execute_result"
    }
   ],
   "source": [
    "df['First_name']"
   ]
  },
  {
   "cell_type": "code",
   "execution_count": 68,
   "metadata": {},
   "outputs": [
    {
     "data": {
      "text/plain": [
       "0     Balcha\n",
       "1      Demse\n",
       "2    Mekonen\n",
       "3    Bahaylu\n",
       "4    Mechael\n",
       "5       Afro\n",
       "Name: Last_name, dtype: object"
      ]
     },
     "execution_count": 68,
     "metadata": {},
     "output_type": "execute_result"
    }
   ],
   "source": [
    "df['Last_name']"
   ]
  },
  {
   "cell_type": "code",
   "execution_count": 72,
   "metadata": {},
   "outputs": [
    {
     "data": {
      "text/html": [
       "<div>\n",
       "<style scoped>\n",
       "    .dataframe tbody tr th:only-of-type {\n",
       "        vertical-align: middle;\n",
       "    }\n",
       "\n",
       "    .dataframe tbody tr th {\n",
       "        vertical-align: top;\n",
       "    }\n",
       "\n",
       "    .dataframe thead th {\n",
       "        text-align: right;\n",
       "    }\n",
       "</style>\n",
       "<table border=\"1\" class=\"dataframe\">\n",
       "  <thead>\n",
       "    <tr style=\"text-align: right;\">\n",
       "      <th></th>\n",
       "      <th>ID</th>\n",
       "      <th>First_name</th>\n",
       "      <th>Last_name</th>\n",
       "      <th>Range</th>\n",
       "    </tr>\n",
       "  </thead>\n",
       "  <tbody>\n",
       "    <tr>\n",
       "      <th>0</th>\n",
       "      <td>101</td>\n",
       "      <td>Abebe</td>\n",
       "      <td>Balcha</td>\n",
       "      <td>20</td>\n",
       "    </tr>\n",
       "    <tr>\n",
       "      <th>1</th>\n",
       "      <td>102</td>\n",
       "      <td>Hirut</td>\n",
       "      <td>Demse</td>\n",
       "      <td>18</td>\n",
       "    </tr>\n",
       "    <tr>\n",
       "      <th>2</th>\n",
       "      <td>103</td>\n",
       "      <td>Eyob</td>\n",
       "      <td>Mekonen</td>\n",
       "      <td>16</td>\n",
       "    </tr>\n",
       "    <tr>\n",
       "      <th>3</th>\n",
       "      <td>104</td>\n",
       "      <td>Mikaya</td>\n",
       "      <td>Bahaylu</td>\n",
       "      <td>14</td>\n",
       "    </tr>\n",
       "    <tr>\n",
       "      <th>4</th>\n",
       "      <td>105</td>\n",
       "      <td>Lij</td>\n",
       "      <td>Mechael</td>\n",
       "      <td>12</td>\n",
       "    </tr>\n",
       "  </tbody>\n",
       "</table>\n",
       "</div>"
      ],
      "text/plain": [
       "    ID First_name Last_name  Range\n",
       "0  101      Abebe    Balcha     20\n",
       "1  102      Hirut     Demse     18\n",
       "2  103       Eyob   Mekonen     16\n",
       "3  104     Mikaya   Bahaylu     14\n",
       "4  105        Lij   Mechael     12"
      ]
     },
     "execution_count": 72,
     "metadata": {},
     "output_type": "execute_result"
    }
   ],
   "source": [
    "df.head()"
   ]
  },
  {
   "cell_type": "code",
   "execution_count": 74,
   "metadata": {},
   "outputs": [
    {
     "data": {
      "text/plain": [
       "0      Abebe S Balcha\n",
       "1       Hirut M Demse\n",
       "2      Eyob K Mekonen\n",
       "3    Mikaya T Bahaylu\n",
       "4       Lij F Mechael\n",
       "5         Tedy A Afro\n",
       "dtype: object"
      ]
     },
     "execution_count": 74,
     "metadata": {},
     "output_type": "execute_result"
    }
   ],
   "source": [
    "df_add['First_name'] + ' ' + df_add['Middle_initials'] + ' ' + df_add['Last_name']"
   ]
  },
  {
   "cell_type": "code",
   "execution_count": 77,
   "metadata": {},
   "outputs": [
    {
     "data": {
      "text/html": [
       "<div>\n",
       "<style scoped>\n",
       "    .dataframe tbody tr th:only-of-type {\n",
       "        vertical-align: middle;\n",
       "    }\n",
       "\n",
       "    .dataframe tbody tr th {\n",
       "        vertical-align: top;\n",
       "    }\n",
       "\n",
       "    .dataframe thead th {\n",
       "        text-align: right;\n",
       "    }\n",
       "</style>\n",
       "<table border=\"1\" class=\"dataframe\">\n",
       "  <thead>\n",
       "    <tr style=\"text-align: right;\">\n",
       "      <th></th>\n",
       "      <th>ID</th>\n",
       "      <th>First_name</th>\n",
       "      <th>Last_name</th>\n",
       "      <th>Range</th>\n",
       "      <th>Middle_initials</th>\n",
       "      <th>Full_name</th>\n",
       "      <th>Full_name_with_middle_name_initials</th>\n",
       "      <th>Full_name_with_middle_initials</th>\n",
       "    </tr>\n",
       "  </thead>\n",
       "  <tbody>\n",
       "    <tr>\n",
       "      <th>0</th>\n",
       "      <td>101</td>\n",
       "      <td>Abebe</td>\n",
       "      <td>Balcha</td>\n",
       "      <td>20</td>\n",
       "      <td>S</td>\n",
       "      <td>Abebe Balcha</td>\n",
       "      <td>Abebe S Balcha</td>\n",
       "      <td>Abebe S Balcha</td>\n",
       "    </tr>\n",
       "    <tr>\n",
       "      <th>1</th>\n",
       "      <td>102</td>\n",
       "      <td>Hirut</td>\n",
       "      <td>Demse</td>\n",
       "      <td>18</td>\n",
       "      <td>M</td>\n",
       "      <td>Hirut Demse</td>\n",
       "      <td>Hirut M Demse</td>\n",
       "      <td>Hirut M Demse</td>\n",
       "    </tr>\n",
       "    <tr>\n",
       "      <th>2</th>\n",
       "      <td>103</td>\n",
       "      <td>Eyob</td>\n",
       "      <td>Mekonen</td>\n",
       "      <td>16</td>\n",
       "      <td>K</td>\n",
       "      <td>Eyob Mekonen</td>\n",
       "      <td>Eyob K Mekonen</td>\n",
       "      <td>Eyob K Mekonen</td>\n",
       "    </tr>\n",
       "    <tr>\n",
       "      <th>3</th>\n",
       "      <td>104</td>\n",
       "      <td>Mikaya</td>\n",
       "      <td>Bahaylu</td>\n",
       "      <td>14</td>\n",
       "      <td>T</td>\n",
       "      <td>Mikaya Bahaylu</td>\n",
       "      <td>Mikaya T Bahaylu</td>\n",
       "      <td>Mikaya T Bahaylu</td>\n",
       "    </tr>\n",
       "    <tr>\n",
       "      <th>4</th>\n",
       "      <td>105</td>\n",
       "      <td>Lij</td>\n",
       "      <td>Mechael</td>\n",
       "      <td>12</td>\n",
       "      <td>F</td>\n",
       "      <td>Lij Mechael</td>\n",
       "      <td>Lij F Mechael</td>\n",
       "      <td>Lij F Mechael</td>\n",
       "    </tr>\n",
       "  </tbody>\n",
       "</table>\n",
       "</div>"
      ],
      "text/plain": [
       "    ID First_name Last_name  Range Middle_initials       Full_name  \\\n",
       "0  101      Abebe    Balcha     20               S    Abebe Balcha   \n",
       "1  102      Hirut     Demse     18               M     Hirut Demse   \n",
       "2  103       Eyob   Mekonen     16               K    Eyob Mekonen   \n",
       "3  104     Mikaya   Bahaylu     14               T  Mikaya Bahaylu   \n",
       "4  105        Lij   Mechael     12               F     Lij Mechael   \n",
       "\n",
       "  Full_name_with_middle_name_initials Full_name_with_middle_initials  \n",
       "0                      Abebe S Balcha                 Abebe S Balcha  \n",
       "1                       Hirut M Demse                  Hirut M Demse  \n",
       "2                      Eyob K Mekonen                 Eyob K Mekonen  \n",
       "3                    Mikaya T Bahaylu               Mikaya T Bahaylu  \n",
       "4                       Lij F Mechael                  Lij F Mechael  "
      ]
     },
     "execution_count": 77,
     "metadata": {},
     "output_type": "execute_result"
    }
   ],
   "source": [
    "df_add.head()"
   ]
  },
  {
   "cell_type": "code",
   "execution_count": 86,
   "metadata": {},
   "outputs": [
    {
     "data": {
      "text/html": [
       "<div>\n",
       "<style scoped>\n",
       "    .dataframe tbody tr th:only-of-type {\n",
       "        vertical-align: middle;\n",
       "    }\n",
       "\n",
       "    .dataframe tbody tr th {\n",
       "        vertical-align: top;\n",
       "    }\n",
       "\n",
       "    .dataframe thead th {\n",
       "        text-align: right;\n",
       "    }\n",
       "</style>\n",
       "<table border=\"1\" class=\"dataframe\">\n",
       "  <thead>\n",
       "    <tr style=\"text-align: right;\">\n",
       "      <th></th>\n",
       "      <th>ID</th>\n",
       "      <th>First_name</th>\n",
       "      <th>Last_name</th>\n",
       "      <th>Range</th>\n",
       "      <th>Middle_initials</th>\n",
       "      <th>Full_name</th>\n",
       "      <th>Full_name_with_middle_name_initials</th>\n",
       "      <th>Full_name_with_middle_initials</th>\n",
       "      <th>email</th>\n",
       "    </tr>\n",
       "  </thead>\n",
       "  <tbody>\n",
       "    <tr>\n",
       "      <th>0</th>\n",
       "      <td>101</td>\n",
       "      <td>Abebe</td>\n",
       "      <td>Balcha</td>\n",
       "      <td>20</td>\n",
       "      <td>S</td>\n",
       "      <td>Abebe Balcha</td>\n",
       "      <td>Abebe S Balcha</td>\n",
       "      <td>Abebe S Balcha</td>\n",
       "      <td>abebe.balcha@gmail.com</td>\n",
       "    </tr>\n",
       "    <tr>\n",
       "      <th>1</th>\n",
       "      <td>102</td>\n",
       "      <td>Hirut</td>\n",
       "      <td>Demse</td>\n",
       "      <td>18</td>\n",
       "      <td>M</td>\n",
       "      <td>Hirut Demse</td>\n",
       "      <td>Hirut M Demse</td>\n",
       "      <td>Hirut M Demse</td>\n",
       "      <td>abebe.balcha@gmail.com</td>\n",
       "    </tr>\n",
       "    <tr>\n",
       "      <th>2</th>\n",
       "      <td>103</td>\n",
       "      <td>Eyob</td>\n",
       "      <td>Mekonen</td>\n",
       "      <td>16</td>\n",
       "      <td>K</td>\n",
       "      <td>Eyob Mekonen</td>\n",
       "      <td>Eyob K Mekonen</td>\n",
       "      <td>Eyob K Mekonen</td>\n",
       "      <td>abebe.balcha@gmail.com</td>\n",
       "    </tr>\n",
       "    <tr>\n",
       "      <th>3</th>\n",
       "      <td>104</td>\n",
       "      <td>Mikaya</td>\n",
       "      <td>Bahaylu</td>\n",
       "      <td>14</td>\n",
       "      <td>T</td>\n",
       "      <td>Mikaya Bahaylu</td>\n",
       "      <td>Mikaya T Bahaylu</td>\n",
       "      <td>Mikaya T Bahaylu</td>\n",
       "      <td>abebe.balcha@gmail.com</td>\n",
       "    </tr>\n",
       "    <tr>\n",
       "      <th>4</th>\n",
       "      <td>105</td>\n",
       "      <td>Lij</td>\n",
       "      <td>Mechael</td>\n",
       "      <td>12</td>\n",
       "      <td>F</td>\n",
       "      <td>Lij Mechael</td>\n",
       "      <td>Lij F Mechael</td>\n",
       "      <td>Lij F Mechael</td>\n",
       "      <td>abebe.balcha@gmail.com</td>\n",
       "    </tr>\n",
       "  </tbody>\n",
       "</table>\n",
       "</div>"
      ],
      "text/plain": [
       "    ID First_name Last_name  Range Middle_initials       Full_name  \\\n",
       "0  101      Abebe    Balcha     20               S    Abebe Balcha   \n",
       "1  102      Hirut     Demse     18               M     Hirut Demse   \n",
       "2  103       Eyob   Mekonen     16               K    Eyob Mekonen   \n",
       "3  104     Mikaya   Bahaylu     14               T  Mikaya Bahaylu   \n",
       "4  105        Lij   Mechael     12               F     Lij Mechael   \n",
       "\n",
       "  Full_name_with_middle_name_initials Full_name_with_middle_initials  \\\n",
       "0                      Abebe S Balcha                 Abebe S Balcha   \n",
       "1                       Hirut M Demse                  Hirut M Demse   \n",
       "2                      Eyob K Mekonen                 Eyob K Mekonen   \n",
       "3                    Mikaya T Bahaylu               Mikaya T Bahaylu   \n",
       "4                       Lij F Mechael                  Lij F Mechael   \n",
       "\n",
       "                    email  \n",
       "0  abebe.balcha@gmail.com  \n",
       "1  abebe.balcha@gmail.com  \n",
       "2  abebe.balcha@gmail.com  \n",
       "3  abebe.balcha@gmail.com  \n",
       "4  abebe.balcha@gmail.com  "
      ]
     },
     "execution_count": 86,
     "metadata": {},
     "output_type": "execute_result"
    }
   ],
   "source": [
    "# a new column named email and it should contain first_name.last_name@gmail.com\n",
    "# email = df_add['First_name'].str.lower() + '.' + df_add['Last_name'].str.lower() + '@gmail.com'\n",
    "email = df_add['First_name'][0].lower() + '.' + df_add['Last_name'][0].lower() + '@gmail.com'\n",
    "df_add['email'] = email\n",
    "df_add.head()\n"
   ]
  },
  {
   "cell_type": "code",
   "execution_count": 79,
   "metadata": {},
   "outputs": [],
   "source": [
    "# df_add.at[df['First_name'] == 'Tedy']['Middle_initials'] = ''"
   ]
  },
  {
   "cell_type": "code",
   "execution_count": 76,
   "metadata": {},
   "outputs": [
    {
     "data": {
      "text/html": [
       "<div>\n",
       "<style scoped>\n",
       "    .dataframe tbody tr th:only-of-type {\n",
       "        vertical-align: middle;\n",
       "    }\n",
       "\n",
       "    .dataframe tbody tr th {\n",
       "        vertical-align: top;\n",
       "    }\n",
       "\n",
       "    .dataframe thead th {\n",
       "        text-align: right;\n",
       "    }\n",
       "</style>\n",
       "<table border=\"1\" class=\"dataframe\">\n",
       "  <thead>\n",
       "    <tr style=\"text-align: right;\">\n",
       "      <th></th>\n",
       "      <th>ID</th>\n",
       "      <th>First_name</th>\n",
       "      <th>Last_name</th>\n",
       "      <th>Range</th>\n",
       "      <th>Middle_initials</th>\n",
       "      <th>Full_name</th>\n",
       "      <th>Full_name_with_middle_name_initials</th>\n",
       "      <th>Full_name_with_middle_initials</th>\n",
       "    </tr>\n",
       "  </thead>\n",
       "  <tbody>\n",
       "    <tr>\n",
       "      <th>0</th>\n",
       "      <td>101</td>\n",
       "      <td>Abebe</td>\n",
       "      <td>Balcha</td>\n",
       "      <td>20</td>\n",
       "      <td>S</td>\n",
       "      <td>Abebe Balcha</td>\n",
       "      <td>Abebe S Balcha</td>\n",
       "      <td>Abebe S Balcha</td>\n",
       "    </tr>\n",
       "    <tr>\n",
       "      <th>1</th>\n",
       "      <td>102</td>\n",
       "      <td>Hirut</td>\n",
       "      <td>Demse</td>\n",
       "      <td>18</td>\n",
       "      <td>M</td>\n",
       "      <td>Hirut Demse</td>\n",
       "      <td>Hirut M Demse</td>\n",
       "      <td>Hirut M Demse</td>\n",
       "    </tr>\n",
       "    <tr>\n",
       "      <th>2</th>\n",
       "      <td>103</td>\n",
       "      <td>Eyob</td>\n",
       "      <td>Mekonen</td>\n",
       "      <td>16</td>\n",
       "      <td>K</td>\n",
       "      <td>Eyob Mekonen</td>\n",
       "      <td>Eyob K Mekonen</td>\n",
       "      <td>Eyob K Mekonen</td>\n",
       "    </tr>\n",
       "    <tr>\n",
       "      <th>3</th>\n",
       "      <td>104</td>\n",
       "      <td>Mikaya</td>\n",
       "      <td>Bahaylu</td>\n",
       "      <td>14</td>\n",
       "      <td>T</td>\n",
       "      <td>Mikaya Bahaylu</td>\n",
       "      <td>Mikaya T Bahaylu</td>\n",
       "      <td>Mikaya T Bahaylu</td>\n",
       "    </tr>\n",
       "    <tr>\n",
       "      <th>4</th>\n",
       "      <td>105</td>\n",
       "      <td>Lij</td>\n",
       "      <td>Mechael</td>\n",
       "      <td>12</td>\n",
       "      <td>F</td>\n",
       "      <td>Lij Mechael</td>\n",
       "      <td>Lij F Mechael</td>\n",
       "      <td>Lij F Mechael</td>\n",
       "    </tr>\n",
       "    <tr>\n",
       "      <th>5</th>\n",
       "      <td>106</td>\n",
       "      <td>Tedy</td>\n",
       "      <td>Afro</td>\n",
       "      <td>10</td>\n",
       "      <td>A</td>\n",
       "      <td>Tedy Afro</td>\n",
       "      <td>Tedy A Afro</td>\n",
       "      <td>Tedy A Afro</td>\n",
       "    </tr>\n",
       "  </tbody>\n",
       "</table>\n",
       "</div>"
      ],
      "text/plain": [
       "    ID First_name Last_name  Range Middle_initials       Full_name  \\\n",
       "0  101      Abebe    Balcha     20               S    Abebe Balcha   \n",
       "1  102      Hirut     Demse     18               M     Hirut Demse   \n",
       "2  103       Eyob   Mekonen     16               K    Eyob Mekonen   \n",
       "3  104     Mikaya   Bahaylu     14               T  Mikaya Bahaylu   \n",
       "4  105        Lij   Mechael     12               F     Lij Mechael   \n",
       "5  106       Tedy      Afro     10               A       Tedy Afro   \n",
       "\n",
       "  Full_name_with_middle_name_initials Full_name_with_middle_initials  \n",
       "0                      Abebe S Balcha                 Abebe S Balcha  \n",
       "1                       Hirut M Demse                  Hirut M Demse  \n",
       "2                      Eyob K Mekonen                 Eyob K Mekonen  \n",
       "3                    Mikaya T Bahaylu               Mikaya T Bahaylu  \n",
       "4                       Lij F Mechael                  Lij F Mechael  \n",
       "5                         Tedy A Afro                    Tedy A Afro  "
      ]
     },
     "execution_count": 76,
     "metadata": {},
     "output_type": "execute_result"
    }
   ],
   "source": [
    "# df['your_new_column_name_to_add'] = value (this value is usually a 1D list)\n",
    "\n",
    "\n",
    "df_add['Full_name'] = df_add['First_name'] + ' ' + df_add['Last_name']\n",
    "df_add['Full_name_with_middle_initials'] = df_add['First_name'] + ' ' + df_add['Middle_initials'] + ' ' + df_add['Last_name']\n",
    "df_add"
   ]
  },
  {
   "cell_type": "code",
   "execution_count": 60,
   "metadata": {},
   "outputs": [
    {
     "ename": "KeyError",
     "evalue": "\"['emial'] not found in axis\"",
     "output_type": "error",
     "traceback": [
      "\u001b[0;31m---------------------------------------------------------------------------\u001b[0m",
      "\u001b[0;31mKeyError\u001b[0m                                  Traceback (most recent call last)",
      "\u001b[0;32m/var/folders/q4/y7xqp5c55f3c58vcqh3nb1q80000gn/T/ipykernel_81757/3575537566.py\u001b[0m in \u001b[0;36m<module>\u001b[0;34m\u001b[0m\n\u001b[1;32m      1\u001b[0m \u001b[0mdf_add\u001b[0m\u001b[0;34m[\u001b[0m\u001b[0;34m'email'\u001b[0m\u001b[0;34m]\u001b[0m\u001b[0;34m=\u001b[0m \u001b[0mdf_add\u001b[0m\u001b[0;34m[\u001b[0m\u001b[0;34m'First_name'\u001b[0m\u001b[0;34m]\u001b[0m\u001b[0;34m.\u001b[0m\u001b[0mstr\u001b[0m\u001b[0;34m.\u001b[0m\u001b[0mlower\u001b[0m\u001b[0;34m(\u001b[0m\u001b[0;34m)\u001b[0m\u001b[0;34m+\u001b[0m \u001b[0;34m'.'\u001b[0m \u001b[0;34m+\u001b[0m \u001b[0mdf_add\u001b[0m\u001b[0;34m[\u001b[0m\u001b[0;34m'Last_name'\u001b[0m\u001b[0;34m]\u001b[0m\u001b[0;34m.\u001b[0m\u001b[0mstr\u001b[0m\u001b[0;34m.\u001b[0m\u001b[0mlower\u001b[0m\u001b[0;34m(\u001b[0m\u001b[0;34m)\u001b[0m \u001b[0;34m+\u001b[0m \u001b[0;34m'@gmail.com'\u001b[0m\u001b[0;34m\u001b[0m\u001b[0;34m\u001b[0m\u001b[0m\n\u001b[1;32m      2\u001b[0m \u001b[0;31m# df_add.drop(columns='emial', inplace=True)\u001b[0m\u001b[0;34m\u001b[0m\u001b[0;34m\u001b[0m\u001b[0m\n\u001b[0;32m----> 3\u001b[0;31m \u001b[0mdf_add\u001b[0m\u001b[0;34m.\u001b[0m\u001b[0mdrop\u001b[0m\u001b[0;34m(\u001b[0m\u001b[0;34m'emial'\u001b[0m\u001b[0;34m,\u001b[0m \u001b[0maxis\u001b[0m\u001b[0;34m=\u001b[0m\u001b[0;36m1\u001b[0m\u001b[0;34m)\u001b[0m\u001b[0;34m\u001b[0m\u001b[0;34m\u001b[0m\u001b[0m\n\u001b[0m\u001b[1;32m      4\u001b[0m \u001b[0mdf_add\u001b[0m\u001b[0;34m\u001b[0m\u001b[0;34m\u001b[0m\u001b[0m\n",
      "\u001b[0;32m~/opt/anaconda3/lib/python3.9/site-packages/pandas/util/_decorators.py\u001b[0m in \u001b[0;36mwrapper\u001b[0;34m(*args, **kwargs)\u001b[0m\n\u001b[1;32m    309\u001b[0m                     \u001b[0mstacklevel\u001b[0m\u001b[0;34m=\u001b[0m\u001b[0mstacklevel\u001b[0m\u001b[0;34m,\u001b[0m\u001b[0;34m\u001b[0m\u001b[0;34m\u001b[0m\u001b[0m\n\u001b[1;32m    310\u001b[0m                 )\n\u001b[0;32m--> 311\u001b[0;31m             \u001b[0;32mreturn\u001b[0m \u001b[0mfunc\u001b[0m\u001b[0;34m(\u001b[0m\u001b[0;34m*\u001b[0m\u001b[0margs\u001b[0m\u001b[0;34m,\u001b[0m \u001b[0;34m**\u001b[0m\u001b[0mkwargs\u001b[0m\u001b[0;34m)\u001b[0m\u001b[0;34m\u001b[0m\u001b[0;34m\u001b[0m\u001b[0m\n\u001b[0m\u001b[1;32m    312\u001b[0m \u001b[0;34m\u001b[0m\u001b[0m\n\u001b[1;32m    313\u001b[0m         \u001b[0;32mreturn\u001b[0m \u001b[0mwrapper\u001b[0m\u001b[0;34m\u001b[0m\u001b[0;34m\u001b[0m\u001b[0m\n",
      "\u001b[0;32m~/opt/anaconda3/lib/python3.9/site-packages/pandas/core/frame.py\u001b[0m in \u001b[0;36mdrop\u001b[0;34m(self, labels, axis, index, columns, level, inplace, errors)\u001b[0m\n\u001b[1;32m   4904\u001b[0m                 \u001b[0mweight\u001b[0m  \u001b[0;36m1.0\u001b[0m     \u001b[0;36m0.8\u001b[0m\u001b[0;34m\u001b[0m\u001b[0;34m\u001b[0m\u001b[0m\n\u001b[1;32m   4905\u001b[0m         \"\"\"\n\u001b[0;32m-> 4906\u001b[0;31m         return super().drop(\n\u001b[0m\u001b[1;32m   4907\u001b[0m             \u001b[0mlabels\u001b[0m\u001b[0;34m=\u001b[0m\u001b[0mlabels\u001b[0m\u001b[0;34m,\u001b[0m\u001b[0;34m\u001b[0m\u001b[0;34m\u001b[0m\u001b[0m\n\u001b[1;32m   4908\u001b[0m             \u001b[0maxis\u001b[0m\u001b[0;34m=\u001b[0m\u001b[0maxis\u001b[0m\u001b[0;34m,\u001b[0m\u001b[0;34m\u001b[0m\u001b[0;34m\u001b[0m\u001b[0m\n",
      "\u001b[0;32m~/opt/anaconda3/lib/python3.9/site-packages/pandas/core/generic.py\u001b[0m in \u001b[0;36mdrop\u001b[0;34m(self, labels, axis, index, columns, level, inplace, errors)\u001b[0m\n\u001b[1;32m   4148\u001b[0m         \u001b[0;32mfor\u001b[0m \u001b[0maxis\u001b[0m\u001b[0;34m,\u001b[0m \u001b[0mlabels\u001b[0m \u001b[0;32min\u001b[0m \u001b[0maxes\u001b[0m\u001b[0;34m.\u001b[0m\u001b[0mitems\u001b[0m\u001b[0;34m(\u001b[0m\u001b[0;34m)\u001b[0m\u001b[0;34m:\u001b[0m\u001b[0;34m\u001b[0m\u001b[0;34m\u001b[0m\u001b[0m\n\u001b[1;32m   4149\u001b[0m             \u001b[0;32mif\u001b[0m \u001b[0mlabels\u001b[0m \u001b[0;32mis\u001b[0m \u001b[0;32mnot\u001b[0m \u001b[0;32mNone\u001b[0m\u001b[0;34m:\u001b[0m\u001b[0;34m\u001b[0m\u001b[0;34m\u001b[0m\u001b[0m\n\u001b[0;32m-> 4150\u001b[0;31m                 \u001b[0mobj\u001b[0m \u001b[0;34m=\u001b[0m \u001b[0mobj\u001b[0m\u001b[0;34m.\u001b[0m\u001b[0m_drop_axis\u001b[0m\u001b[0;34m(\u001b[0m\u001b[0mlabels\u001b[0m\u001b[0;34m,\u001b[0m \u001b[0maxis\u001b[0m\u001b[0;34m,\u001b[0m \u001b[0mlevel\u001b[0m\u001b[0;34m=\u001b[0m\u001b[0mlevel\u001b[0m\u001b[0;34m,\u001b[0m \u001b[0merrors\u001b[0m\u001b[0;34m=\u001b[0m\u001b[0merrors\u001b[0m\u001b[0;34m)\u001b[0m\u001b[0;34m\u001b[0m\u001b[0;34m\u001b[0m\u001b[0m\n\u001b[0m\u001b[1;32m   4151\u001b[0m \u001b[0;34m\u001b[0m\u001b[0m\n\u001b[1;32m   4152\u001b[0m         \u001b[0;32mif\u001b[0m \u001b[0minplace\u001b[0m\u001b[0;34m:\u001b[0m\u001b[0;34m\u001b[0m\u001b[0;34m\u001b[0m\u001b[0m\n",
      "\u001b[0;32m~/opt/anaconda3/lib/python3.9/site-packages/pandas/core/generic.py\u001b[0m in \u001b[0;36m_drop_axis\u001b[0;34m(self, labels, axis, level, errors)\u001b[0m\n\u001b[1;32m   4183\u001b[0m                 \u001b[0mnew_axis\u001b[0m \u001b[0;34m=\u001b[0m \u001b[0maxis\u001b[0m\u001b[0;34m.\u001b[0m\u001b[0mdrop\u001b[0m\u001b[0;34m(\u001b[0m\u001b[0mlabels\u001b[0m\u001b[0;34m,\u001b[0m \u001b[0mlevel\u001b[0m\u001b[0;34m=\u001b[0m\u001b[0mlevel\u001b[0m\u001b[0;34m,\u001b[0m \u001b[0merrors\u001b[0m\u001b[0;34m=\u001b[0m\u001b[0merrors\u001b[0m\u001b[0;34m)\u001b[0m\u001b[0;34m\u001b[0m\u001b[0;34m\u001b[0m\u001b[0m\n\u001b[1;32m   4184\u001b[0m             \u001b[0;32melse\u001b[0m\u001b[0;34m:\u001b[0m\u001b[0;34m\u001b[0m\u001b[0;34m\u001b[0m\u001b[0m\n\u001b[0;32m-> 4185\u001b[0;31m                 \u001b[0mnew_axis\u001b[0m \u001b[0;34m=\u001b[0m \u001b[0maxis\u001b[0m\u001b[0;34m.\u001b[0m\u001b[0mdrop\u001b[0m\u001b[0;34m(\u001b[0m\u001b[0mlabels\u001b[0m\u001b[0;34m,\u001b[0m \u001b[0merrors\u001b[0m\u001b[0;34m=\u001b[0m\u001b[0merrors\u001b[0m\u001b[0;34m)\u001b[0m\u001b[0;34m\u001b[0m\u001b[0;34m\u001b[0m\u001b[0m\n\u001b[0m\u001b[1;32m   4186\u001b[0m             \u001b[0mresult\u001b[0m \u001b[0;34m=\u001b[0m \u001b[0mself\u001b[0m\u001b[0;34m.\u001b[0m\u001b[0mreindex\u001b[0m\u001b[0;34m(\u001b[0m\u001b[0;34m**\u001b[0m\u001b[0;34m{\u001b[0m\u001b[0maxis_name\u001b[0m\u001b[0;34m:\u001b[0m \u001b[0mnew_axis\u001b[0m\u001b[0;34m}\u001b[0m\u001b[0;34m)\u001b[0m\u001b[0;34m\u001b[0m\u001b[0;34m\u001b[0m\u001b[0m\n\u001b[1;32m   4187\u001b[0m \u001b[0;34m\u001b[0m\u001b[0m\n",
      "\u001b[0;32m~/opt/anaconda3/lib/python3.9/site-packages/pandas/core/indexes/base.py\u001b[0m in \u001b[0;36mdrop\u001b[0;34m(self, labels, errors)\u001b[0m\n\u001b[1;32m   6015\u001b[0m         \u001b[0;32mif\u001b[0m \u001b[0mmask\u001b[0m\u001b[0;34m.\u001b[0m\u001b[0many\u001b[0m\u001b[0;34m(\u001b[0m\u001b[0;34m)\u001b[0m\u001b[0;34m:\u001b[0m\u001b[0;34m\u001b[0m\u001b[0;34m\u001b[0m\u001b[0m\n\u001b[1;32m   6016\u001b[0m             \u001b[0;32mif\u001b[0m \u001b[0merrors\u001b[0m \u001b[0;34m!=\u001b[0m \u001b[0;34m\"ignore\"\u001b[0m\u001b[0;34m:\u001b[0m\u001b[0;34m\u001b[0m\u001b[0;34m\u001b[0m\u001b[0m\n\u001b[0;32m-> 6017\u001b[0;31m                 \u001b[0;32mraise\u001b[0m \u001b[0mKeyError\u001b[0m\u001b[0;34m(\u001b[0m\u001b[0;34mf\"{labels[mask]} not found in axis\"\u001b[0m\u001b[0;34m)\u001b[0m\u001b[0;34m\u001b[0m\u001b[0;34m\u001b[0m\u001b[0m\n\u001b[0m\u001b[1;32m   6018\u001b[0m             \u001b[0mindexer\u001b[0m \u001b[0;34m=\u001b[0m \u001b[0mindexer\u001b[0m\u001b[0;34m[\u001b[0m\u001b[0;34m~\u001b[0m\u001b[0mmask\u001b[0m\u001b[0;34m]\u001b[0m\u001b[0;34m\u001b[0m\u001b[0;34m\u001b[0m\u001b[0m\n\u001b[1;32m   6019\u001b[0m         \u001b[0;32mreturn\u001b[0m \u001b[0mself\u001b[0m\u001b[0;34m.\u001b[0m\u001b[0mdelete\u001b[0m\u001b[0;34m(\u001b[0m\u001b[0mindexer\u001b[0m\u001b[0;34m)\u001b[0m\u001b[0;34m\u001b[0m\u001b[0;34m\u001b[0m\u001b[0m\n",
      "\u001b[0;31mKeyError\u001b[0m: \"['emial'] not found in axis\""
     ]
    }
   ],
   "source": [
    "df_add['email']= df_add['First_name'].str.lower()+ '.' + df_add['Last_name'].str.lower() + '@gmail.com'\n",
    "# df_add.drop(columns='emial', inplace=True)\n",
    "# df_add.drop('emial', axis=1)\n",
    "df_add.drop(index=5) # to remove the 5th index\n",
    "df_add"
   ]
  },
  {
   "cell_type": "code",
   "execution_count": 31,
   "metadata": {},
   "outputs": [
    {
     "name": "stderr",
     "output_type": "stream",
     "text": [
      "/var/folders/q4/y7xqp5c55f3c58vcqh3nb1q80000gn/T/ipykernel_81757/4176094656.py:2: SettingWithCopyWarning: \n",
      "A value is trying to be set on a copy of a slice from a DataFrame.\n",
      "Try using .loc[row_indexer,col_indexer] = value instead\n",
      "\n",
      "See the caveats in the documentation: https://pandas.pydata.org/pandas-docs/stable/user_guide/indexing.html#returning-a-view-versus-a-copy\n",
      "  df_test[df_test['First_name'] == 'Tedy']['Middle_initials'] = ''\n"
     ]
    }
   ],
   "source": [
    "# df_test = df_add.copy()\n",
    "# df_test[df_test['First_name'] == 'Tedy']['Middle_initials'] = ''"
   ]
  },
  {
   "cell_type": "code",
   "execution_count": 32,
   "metadata": {},
   "outputs": [
    {
     "data": {
      "text/html": [
       "<div>\n",
       "<style scoped>\n",
       "    .dataframe tbody tr th:only-of-type {\n",
       "        vertical-align: middle;\n",
       "    }\n",
       "\n",
       "    .dataframe tbody tr th {\n",
       "        vertical-align: top;\n",
       "    }\n",
       "\n",
       "    .dataframe thead th {\n",
       "        text-align: right;\n",
       "    }\n",
       "</style>\n",
       "<table border=\"1\" class=\"dataframe\">\n",
       "  <thead>\n",
       "    <tr style=\"text-align: right;\">\n",
       "      <th></th>\n",
       "      <th>First_name</th>\n",
       "      <th>Sequence</th>\n",
       "      <th>Last_name</th>\n",
       "      <th>Range</th>\n",
       "      <th>Middle_initials</th>\n",
       "    </tr>\n",
       "  </thead>\n",
       "  <tbody>\n",
       "    <tr>\n",
       "      <th>0</th>\n",
       "      <td>Abebe</td>\n",
       "      <td>15</td>\n",
       "      <td>Balcha</td>\n",
       "      <td>20</td>\n",
       "      <td>S</td>\n",
       "    </tr>\n",
       "    <tr>\n",
       "      <th>1</th>\n",
       "      <td>Hirut</td>\n",
       "      <td>16</td>\n",
       "      <td>Demse</td>\n",
       "      <td>18</td>\n",
       "      <td>M</td>\n",
       "    </tr>\n",
       "    <tr>\n",
       "      <th>2</th>\n",
       "      <td>Eyob</td>\n",
       "      <td>17</td>\n",
       "      <td>Mekonen</td>\n",
       "      <td>16</td>\n",
       "      <td>K</td>\n",
       "    </tr>\n",
       "    <tr>\n",
       "      <th>3</th>\n",
       "      <td>Mikaya</td>\n",
       "      <td>18</td>\n",
       "      <td>Bahaylu</td>\n",
       "      <td>14</td>\n",
       "      <td>T</td>\n",
       "    </tr>\n",
       "    <tr>\n",
       "      <th>4</th>\n",
       "      <td>Lij</td>\n",
       "      <td>19</td>\n",
       "      <td>Mechael</td>\n",
       "      <td>12</td>\n",
       "      <td>F</td>\n",
       "    </tr>\n",
       "    <tr>\n",
       "      <th>5</th>\n",
       "      <td>Tedy</td>\n",
       "      <td>20</td>\n",
       "      <td>Afro</td>\n",
       "      <td>10</td>\n",
       "      <td>A</td>\n",
       "    </tr>\n",
       "  </tbody>\n",
       "</table>\n",
       "</div>"
      ],
      "text/plain": [
       "  First_name  Sequence Last_name  Range Middle_initials\n",
       "0      Abebe        15    Balcha     20               S\n",
       "1      Hirut        16     Demse     18               M\n",
       "2       Eyob        17   Mekonen     16               K\n",
       "3     Mikaya        18   Bahaylu     14               T\n",
       "4        Lij        19   Mechael     12               F\n",
       "5       Tedy        20      Afro     10               A"
      ]
     },
     "execution_count": 32,
     "metadata": {},
     "output_type": "execute_result"
    }
   ],
   "source": [
    "# df_test"
   ]
  },
  {
   "cell_type": "code",
   "execution_count": null,
   "metadata": {},
   "outputs": [],
   "source": [
    "# x1 + x3 \n",
    "df_add['full_name'] = df_add['First_name'] + ' ' + df_add['Last_name']\n",
    "df_add"
   ]
  },
  {
   "cell_type": "code",
   "execution_count": null,
   "metadata": {},
   "outputs": [],
   "source": [
    "df_add['sum'] = df_add['Sequence'] + df_add['Range']\n",
    "df_add"
   ]
  },
  {
   "attachments": {},
   "cell_type": "markdown",
   "metadata": {},
   "source": [
    "## Breakout \n",
    "#### Calculate BMI\n",
    "\n",
    "```python\n",
    "data = {\n",
    "        'name': ['Nati', 'Fikre', 'Zena', 'Hana'],\n",
    "        'weight': [84, 79, 67, 52],\n",
    "        'height': [183, 186, 158, 155],\n",
    "        'smoke_or_not': ['no', 'yes', 'yes', 'no'],\n",
    "        'email': ['nati@gmail.com', 'fikre@yahoo.com','zena@outlook.com','hana@gmail.com']\n",
    "        }\n",
    "  \n",
    "# Create DataFrame\n",
    "bmi = pd.DataFrame(data)\n",
    "bmi\n",
    "```\n",
    "\n",
    "Task:\n",
    "* Create a new column named `BMI` and calculate the body mass index\n",
    "* Identify customers over `25` bmi\n",
    "* Draft a sample email noting that there is a new workout routine to help them out. \n",
    "* Create a `BMI Categories`: \n",
    "* * Underweight = <18.5,\n",
    "* * Normal weight = 18.5–24.9, \n",
    "* * Overweight = 25–29.9, \n",
    "* * Obesity = BMI of 30 or greater -- We will do this togather later"
   ]
  },
  {
   "cell_type": "code",
   "execution_count": 88,
   "metadata": {},
   "outputs": [
    {
     "data": {
      "text/html": [
       "<div>\n",
       "<style scoped>\n",
       "    .dataframe tbody tr th:only-of-type {\n",
       "        vertical-align: middle;\n",
       "    }\n",
       "\n",
       "    .dataframe tbody tr th {\n",
       "        vertical-align: top;\n",
       "    }\n",
       "\n",
       "    .dataframe thead th {\n",
       "        text-align: right;\n",
       "    }\n",
       "</style>\n",
       "<table border=\"1\" class=\"dataframe\">\n",
       "  <thead>\n",
       "    <tr style=\"text-align: right;\">\n",
       "      <th></th>\n",
       "      <th>name</th>\n",
       "      <th>weight</th>\n",
       "      <th>height</th>\n",
       "      <th>smoke_or_not</th>\n",
       "      <th>email</th>\n",
       "    </tr>\n",
       "  </thead>\n",
       "  <tbody>\n",
       "    <tr>\n",
       "      <th>0</th>\n",
       "      <td>Nati</td>\n",
       "      <td>84</td>\n",
       "      <td>183</td>\n",
       "      <td>no</td>\n",
       "      <td>nati@gmail.com</td>\n",
       "    </tr>\n",
       "    <tr>\n",
       "      <th>1</th>\n",
       "      <td>Fikre</td>\n",
       "      <td>79</td>\n",
       "      <td>186</td>\n",
       "      <td>yes</td>\n",
       "      <td>fikre@yahoo.com</td>\n",
       "    </tr>\n",
       "    <tr>\n",
       "      <th>2</th>\n",
       "      <td>Zena</td>\n",
       "      <td>67</td>\n",
       "      <td>158</td>\n",
       "      <td>yes</td>\n",
       "      <td>zena@outlook.com</td>\n",
       "    </tr>\n",
       "    <tr>\n",
       "      <th>3</th>\n",
       "      <td>Hana</td>\n",
       "      <td>52</td>\n",
       "      <td>155</td>\n",
       "      <td>no</td>\n",
       "      <td>hana@gmail.com</td>\n",
       "    </tr>\n",
       "  </tbody>\n",
       "</table>\n",
       "</div>"
      ],
      "text/plain": [
       "    name  weight  height smoke_or_not             email\n",
       "0   Nati      84     183           no    nati@gmail.com\n",
       "1  Fikre      79     186          yes   fikre@yahoo.com\n",
       "2   Zena      67     158          yes  zena@outlook.com\n",
       "3   Hana      52     155           no    hana@gmail.com"
      ]
     },
     "execution_count": 88,
     "metadata": {},
     "output_type": "execute_result"
    }
   ],
   "source": [
    "data = {\n",
    "        'name': ['Nati', 'Fikre', 'Zena', 'Hana'],\n",
    "        'weight': [84, 79, 67, 52],\n",
    "        'height': [183, 186, 158, 155],\n",
    "        'smoke_or_not': ['no', 'yes', 'yes', 'no'],\n",
    "        'email': ['nati@gmail.com', 'fikre@yahoo.com','zena@outlook.com','hana@gmail.com']\n",
    "        }\n",
    "  \n",
    "# Create DataFrame\n",
    "bmi = pd.DataFrame(data)\n",
    "bmi"
   ]
  },
  {
   "cell_type": "code",
   "execution_count": 111,
   "metadata": {},
   "outputs": [
    {
     "data": {
      "text/html": [
       "<div>\n",
       "<style scoped>\n",
       "    .dataframe tbody tr th:only-of-type {\n",
       "        vertical-align: middle;\n",
       "    }\n",
       "\n",
       "    .dataframe tbody tr th {\n",
       "        vertical-align: top;\n",
       "    }\n",
       "\n",
       "    .dataframe thead th {\n",
       "        text-align: right;\n",
       "    }\n",
       "</style>\n",
       "<table border=\"1\" class=\"dataframe\">\n",
       "  <thead>\n",
       "    <tr style=\"text-align: right;\">\n",
       "      <th></th>\n",
       "      <th>name</th>\n",
       "      <th>weight</th>\n",
       "      <th>height</th>\n",
       "      <th>smoke_or_not</th>\n",
       "      <th>email</th>\n",
       "      <th>BMI</th>\n",
       "    </tr>\n",
       "  </thead>\n",
       "  <tbody>\n",
       "    <tr>\n",
       "      <th>0</th>\n",
       "      <td>Nati</td>\n",
       "      <td>84</td>\n",
       "      <td>183</td>\n",
       "      <td>no</td>\n",
       "      <td>nati@gmail.com</td>\n",
       "      <td>25.08</td>\n",
       "    </tr>\n",
       "    <tr>\n",
       "      <th>1</th>\n",
       "      <td>Fikre</td>\n",
       "      <td>79</td>\n",
       "      <td>186</td>\n",
       "      <td>yes</td>\n",
       "      <td>fikre@yahoo.com</td>\n",
       "      <td>22.84</td>\n",
       "    </tr>\n",
       "    <tr>\n",
       "      <th>2</th>\n",
       "      <td>Zena</td>\n",
       "      <td>67</td>\n",
       "      <td>158</td>\n",
       "      <td>yes</td>\n",
       "      <td>zena@outlook.com</td>\n",
       "      <td>26.84</td>\n",
       "    </tr>\n",
       "    <tr>\n",
       "      <th>3</th>\n",
       "      <td>Hana</td>\n",
       "      <td>52</td>\n",
       "      <td>155</td>\n",
       "      <td>no</td>\n",
       "      <td>hana@gmail.com</td>\n",
       "      <td>21.64</td>\n",
       "    </tr>\n",
       "  </tbody>\n",
       "</table>\n",
       "</div>"
      ],
      "text/plain": [
       "    name  weight  height smoke_or_not             email    BMI\n",
       "0   Nati      84     183           no    nati@gmail.com  25.08\n",
       "1  Fikre      79     186          yes   fikre@yahoo.com  22.84\n",
       "2   Zena      67     158          yes  zena@outlook.com  26.84\n",
       "3   Hana      52     155           no    hana@gmail.com  21.64"
      ]
     },
     "execution_count": 111,
     "metadata": {},
     "output_type": "execute_result"
    }
   ],
   "source": [
    "# Create a new column named `BMI` and calculate the body mass index\n",
    "\n",
    "a = round(bmi['weight']/(bmi['height']/100)**2,2)\n",
    "\n",
    "bmi['BMI'] = a\n",
    "bmi \n",
    "\n",
    "\n"
   ]
  },
  {
   "cell_type": "code",
   "execution_count": 132,
   "metadata": {},
   "outputs": [
    {
     "data": {
      "text/html": [
       "<div>\n",
       "<style scoped>\n",
       "    .dataframe tbody tr th:only-of-type {\n",
       "        vertical-align: middle;\n",
       "    }\n",
       "\n",
       "    .dataframe tbody tr th {\n",
       "        vertical-align: top;\n",
       "    }\n",
       "\n",
       "    .dataframe thead th {\n",
       "        text-align: right;\n",
       "    }\n",
       "</style>\n",
       "<table border=\"1\" class=\"dataframe\">\n",
       "  <thead>\n",
       "    <tr style=\"text-align: right;\">\n",
       "      <th></th>\n",
       "      <th>name</th>\n",
       "      <th>weight</th>\n",
       "      <th>height</th>\n",
       "      <th>smoke_or_not</th>\n",
       "      <th>email</th>\n",
       "      <th>BMI</th>\n",
       "    </tr>\n",
       "  </thead>\n",
       "  <tbody>\n",
       "    <tr>\n",
       "      <th>0</th>\n",
       "      <td>Nati</td>\n",
       "      <td>84</td>\n",
       "      <td>183</td>\n",
       "      <td>no</td>\n",
       "      <td>nati@gmail.com</td>\n",
       "      <td>25.08</td>\n",
       "    </tr>\n",
       "    <tr>\n",
       "      <th>2</th>\n",
       "      <td>Zena</td>\n",
       "      <td>67</td>\n",
       "      <td>158</td>\n",
       "      <td>yes</td>\n",
       "      <td>zena@outlook.com</td>\n",
       "      <td>26.84</td>\n",
       "    </tr>\n",
       "  </tbody>\n",
       "</table>\n",
       "</div>"
      ],
      "text/plain": [
       "   name  weight  height smoke_or_not             email    BMI\n",
       "0  Nati      84     183           no    nati@gmail.com  25.08\n",
       "2  Zena      67     158          yes  zena@outlook.com  26.84"
      ]
     },
     "execution_count": 132,
     "metadata": {},
     "output_type": "execute_result"
    }
   ],
   "source": [
    "# Identify customers over `25` bmi\n",
    "bmi_over_25 = bmi[bmi['BMI'] > 25 ]\n",
    "bmi_over_25\n"
   ]
  },
  {
   "cell_type": "code",
   "execution_count": null,
   "metadata": {},
   "outputs": [],
   "source": [
    "# ()            ==> set or tuple \n",
    "# []            ==> list\n",
    "# {}            ==> dict\n",
    "# '' | \"\"       ==>  string"
   ]
  },
  {
   "cell_type": "code",
   "execution_count": 141,
   "metadata": {},
   "outputs": [
    {
     "data": {
      "text/html": [
       "<div>\n",
       "<style scoped>\n",
       "    .dataframe tbody tr th:only-of-type {\n",
       "        vertical-align: middle;\n",
       "    }\n",
       "\n",
       "    .dataframe tbody tr th {\n",
       "        vertical-align: top;\n",
       "    }\n",
       "\n",
       "    .dataframe thead th {\n",
       "        text-align: right;\n",
       "    }\n",
       "</style>\n",
       "<table border=\"1\" class=\"dataframe\">\n",
       "  <thead>\n",
       "    <tr style=\"text-align: right;\">\n",
       "      <th></th>\n",
       "      <th>name</th>\n",
       "      <th>weight</th>\n",
       "      <th>height</th>\n",
       "      <th>smoke_or_not</th>\n",
       "      <th>email</th>\n",
       "      <th>BMI</th>\n",
       "      <th>Notification</th>\n",
       "    </tr>\n",
       "  </thead>\n",
       "  <tbody>\n",
       "    <tr>\n",
       "      <th>0</th>\n",
       "      <td>Nati</td>\n",
       "      <td>84</td>\n",
       "      <td>183</td>\n",
       "      <td>no</td>\n",
       "      <td>nati@gmail.com</td>\n",
       "      <td>25.08</td>\n",
       "      <td>Hi, Nati we launch a new programe to help you ...</td>\n",
       "    </tr>\n",
       "    <tr>\n",
       "      <th>2</th>\n",
       "      <td>Zena</td>\n",
       "      <td>67</td>\n",
       "      <td>158</td>\n",
       "      <td>yes</td>\n",
       "      <td>zena@outlook.com</td>\n",
       "      <td>26.84</td>\n",
       "      <td>Hi, Zena we launch a new programe to help you ...</td>\n",
       "    </tr>\n",
       "  </tbody>\n",
       "</table>\n",
       "</div>"
      ],
      "text/plain": [
       "   name  weight  height smoke_or_not             email    BMI  \\\n",
       "0  Nati      84     183           no    nati@gmail.com  25.08   \n",
       "2  Zena      67     158          yes  zena@outlook.com  26.84   \n",
       "\n",
       "                                        Notification  \n",
       "0  Hi, Nati we launch a new programe to help you ...  \n",
       "2  Hi, Zena we launch a new programe to help you ...  "
      ]
     },
     "execution_count": 141,
     "metadata": {},
     "output_type": "execute_result"
    }
   ],
   "source": [
    "# create a new column named 'Notification' and draft an email saying there might be over wight\n",
    "# Hi xxx we launch a new programe to help you with your wight loss effort\n",
    "\n",
    "# bmi_over_25.loc[:,'Notification'] = 'Hi {0} we launch a new programe to help you with your wight loss effort'.format([bmi_over_25['name']])\n",
    "# bmi_over_25.loc[:,'Notification'] = f\"Hi {bmi_over_25['name'].str.lower()} we launch a new programe to help you with your wight loss effort\"\n",
    "\n",
    "bmi_over_25.loc[:,'Notification']  = \"Hi, \" + bmi_over_25['name'].str.capitalize() + \" we launch a new programe to help you with your wight loss effor\"\n",
    "bmi_over_25\n",
    "\n",
    "# df_add['First_name'].str.lower()"
   ]
  },
  {
   "cell_type": "markdown",
   "metadata": {},
   "source": [
    "bmi_over_25"
   ]
  },
  {
   "cell_type": "code",
   "execution_count": null,
   "metadata": {},
   "outputs": [],
   "source": []
  },
  {
   "attachments": {},
   "cell_type": "markdown",
   "metadata": {},
   "source": [
    "## Indexing and selecting data\n",
    "The axis labeling information in pandas objects serves many purposes:\n",
    "\n",
    "* Identifies data (i.e. provides metadata) using known indicators, important for analysis, visualization, and interactive console display.  \n",
    "\n",
    "* Enables automatic and explicit data alignment.  \n",
    "\n",
    "* Allows intuitive getting and setting of subsets of the data set.\n",
    "\n",
    "In this section, we will focus on the final point: namely, how to slice, dice, and generally get and set subsets of pandas objects. The primary focus will be on Series and DataFrame as they have received more development attention in this area.\n",
    "\n"
   ]
  },
  {
   "attachments": {},
   "cell_type": "markdown",
   "metadata": {},
   "source": [
    "### Different choices for indexing\n",
    "\n",
    "Read this link: https://pandas.pydata.org/docs/user_guide/indexing.html#different-choices-for-indexing\n"
   ]
  },
  {
   "attachments": {},
   "cell_type": "markdown",
   "metadata": {},
   "source": [
    "### 1. Indexing a DataFrame using `.loc[ ]` :\n",
    "This function selects data by the label of the rows and columns. The df.loc indexer selects data in a different way than just the indexing operator. It can select subsets of rows or columns. It can also simultaneously select subsets of rows and columns."
   ]
  },
  {
   "cell_type": "code",
   "execution_count": 106,
   "metadata": {},
   "outputs": [
    {
     "data": {
      "text/html": [
       "<div>\n",
       "<style scoped>\n",
       "    .dataframe tbody tr th:only-of-type {\n",
       "        vertical-align: middle;\n",
       "    }\n",
       "\n",
       "    .dataframe tbody tr th {\n",
       "        vertical-align: top;\n",
       "    }\n",
       "\n",
       "    .dataframe thead th {\n",
       "        text-align: right;\n",
       "    }\n",
       "</style>\n",
       "<table border=\"1\" class=\"dataframe\">\n",
       "  <thead>\n",
       "    <tr style=\"text-align: right;\">\n",
       "      <th></th>\n",
       "      <th>ID</th>\n",
       "      <th>First_name</th>\n",
       "      <th>Last_name</th>\n",
       "      <th>Range</th>\n",
       "      <th>Middle_initials</th>\n",
       "    </tr>\n",
       "  </thead>\n",
       "  <tbody>\n",
       "    <tr>\n",
       "      <th>0</th>\n",
       "      <td>101</td>\n",
       "      <td>Abebe</td>\n",
       "      <td>Balcha</td>\n",
       "      <td>20</td>\n",
       "      <td>S</td>\n",
       "    </tr>\n",
       "    <tr>\n",
       "      <th>1</th>\n",
       "      <td>102</td>\n",
       "      <td>Hirut</td>\n",
       "      <td>Demse</td>\n",
       "      <td>18</td>\n",
       "      <td>M</td>\n",
       "    </tr>\n",
       "    <tr>\n",
       "      <th>2</th>\n",
       "      <td>103</td>\n",
       "      <td>Eyob</td>\n",
       "      <td>Mekonen</td>\n",
       "      <td>16</td>\n",
       "      <td>F</td>\n",
       "    </tr>\n",
       "    <tr>\n",
       "      <th>3</th>\n",
       "      <td>104</td>\n",
       "      <td>Mikaya</td>\n",
       "      <td>Bahaylu</td>\n",
       "      <td>14</td>\n",
       "      <td>T</td>\n",
       "    </tr>\n",
       "    <tr>\n",
       "      <th>4</th>\n",
       "      <td>105</td>\n",
       "      <td>Lij</td>\n",
       "      <td>Mechael</td>\n",
       "      <td>12</td>\n",
       "      <td>F</td>\n",
       "    </tr>\n",
       "    <tr>\n",
       "      <th>5</th>\n",
       "      <td>106</td>\n",
       "      <td>Tedy</td>\n",
       "      <td>Afro</td>\n",
       "      <td>10</td>\n",
       "      <td>A</td>\n",
       "    </tr>\n",
       "  </tbody>\n",
       "</table>\n",
       "</div>"
      ],
      "text/plain": [
       "    ID First_name Last_name  Range Middle_initials\n",
       "0  101      Abebe    Balcha     20               S\n",
       "1  102      Hirut     Demse     18               M\n",
       "2  103       Eyob   Mekonen     16               F\n",
       "3  104     Mikaya   Bahaylu     14               T\n",
       "4  105        Lij   Mechael     12               F\n",
       "5  106       Tedy      Afro     10               A"
      ]
     },
     "execution_count": 106,
     "metadata": {},
     "output_type": "execute_result"
    }
   ],
   "source": [
    "df_add"
   ]
  },
  {
   "cell_type": "code",
   "execution_count": 110,
   "metadata": {},
   "outputs": [
    {
     "data": {
      "text/html": [
       "<div>\n",
       "<style scoped>\n",
       "    .dataframe tbody tr th:only-of-type {\n",
       "        vertical-align: middle;\n",
       "    }\n",
       "\n",
       "    .dataframe tbody tr th {\n",
       "        vertical-align: top;\n",
       "    }\n",
       "\n",
       "    .dataframe thead th {\n",
       "        text-align: right;\n",
       "    }\n",
       "</style>\n",
       "<table border=\"1\" class=\"dataframe\">\n",
       "  <thead>\n",
       "    <tr style=\"text-align: right;\">\n",
       "      <th></th>\n",
       "      <th>ID</th>\n",
       "      <th>First_name</th>\n",
       "      <th>Last_name</th>\n",
       "      <th>Range</th>\n",
       "      <th>Middle_initials</th>\n",
       "    </tr>\n",
       "  </thead>\n",
       "  <tbody>\n",
       "    <tr>\n",
       "      <th>2</th>\n",
       "      <td>103</td>\n",
       "      <td>Eyob</td>\n",
       "      <td>Mekonen</td>\n",
       "      <td>16</td>\n",
       "      <td>F</td>\n",
       "    </tr>\n",
       "    <tr>\n",
       "      <th>4</th>\n",
       "      <td>105</td>\n",
       "      <td>Lij</td>\n",
       "      <td>Mechael</td>\n",
       "      <td>12</td>\n",
       "      <td>F</td>\n",
       "    </tr>\n",
       "  </tbody>\n",
       "</table>\n",
       "</div>"
      ],
      "text/plain": [
       "    ID First_name Last_name  Range Middle_initials\n",
       "2  103       Eyob   Mekonen     16               F\n",
       "4  105        Lij   Mechael     12               F"
      ]
     },
     "execution_count": 110,
     "metadata": {},
     "output_type": "execute_result"
    }
   ],
   "source": [
    "t = df_add[df_add['Middle_initials'] == 'F']\n",
    "t"
   ]
  },
  {
   "cell_type": "code",
   "execution_count": 108,
   "metadata": {},
   "outputs": [
    {
     "data": {
      "text/plain": [
       "0    False\n",
       "1    False\n",
       "2     True\n",
       "3    False\n",
       "4     True\n",
       "5    False\n",
       "Name: Middle_initials, dtype: bool"
      ]
     },
     "execution_count": 108,
     "metadata": {},
     "output_type": "execute_result"
    }
   ],
   "source": [
    "df_add['Middle_initials'] == 'F'"
   ]
  },
  {
   "cell_type": "code",
   "execution_count": 88,
   "metadata": {},
   "outputs": [
    {
     "data": {
      "text/html": [
       "<div>\n",
       "<style scoped>\n",
       "    .dataframe tbody tr th:only-of-type {\n",
       "        vertical-align: middle;\n",
       "    }\n",
       "\n",
       "    .dataframe tbody tr th {\n",
       "        vertical-align: top;\n",
       "    }\n",
       "\n",
       "    .dataframe thead th {\n",
       "        text-align: right;\n",
       "    }\n",
       "</style>\n",
       "<table border=\"1\" class=\"dataframe\">\n",
       "  <thead>\n",
       "    <tr style=\"text-align: right;\">\n",
       "      <th></th>\n",
       "      <th>First_name</th>\n",
       "      <th>Last_name</th>\n",
       "    </tr>\n",
       "  </thead>\n",
       "  <tbody>\n",
       "    <tr>\n",
       "      <th>4</th>\n",
       "      <td>Lij</td>\n",
       "      <td>Mechael</td>\n",
       "    </tr>\n",
       "    <tr>\n",
       "      <th>2</th>\n",
       "      <td>Eyob</td>\n",
       "      <td>Mekonen</td>\n",
       "    </tr>\n",
       "    <tr>\n",
       "      <th>0</th>\n",
       "      <td>Abebe</td>\n",
       "      <td>Balcha</td>\n",
       "    </tr>\n",
       "  </tbody>\n",
       "</table>\n",
       "</div>"
      ],
      "text/plain": [
       "  First_name Last_name\n",
       "4        Lij   Mechael\n",
       "2       Eyob   Mekonen\n",
       "0      Abebe    Balcha"
      ]
     },
     "execution_count": 88,
     "metadata": {},
     "output_type": "execute_result"
    }
   ],
   "source": [
    "cols = ['First_name', 'Last_name']\n",
    "eyob_lij = df_add.loc[[4,2,0]][cols]\n",
    "eyob_lij"
   ]
  },
  {
   "cell_type": "code",
   "execution_count": 92,
   "metadata": {},
   "outputs": [
    {
     "data": {
      "text/html": [
       "<div>\n",
       "<style scoped>\n",
       "    .dataframe tbody tr th:only-of-type {\n",
       "        vertical-align: middle;\n",
       "    }\n",
       "\n",
       "    .dataframe tbody tr th {\n",
       "        vertical-align: top;\n",
       "    }\n",
       "\n",
       "    .dataframe thead th {\n",
       "        text-align: right;\n",
       "    }\n",
       "</style>\n",
       "<table border=\"1\" class=\"dataframe\">\n",
       "  <thead>\n",
       "    <tr style=\"text-align: right;\">\n",
       "      <th></th>\n",
       "      <th>First_name</th>\n",
       "      <th>Last_name</th>\n",
       "    </tr>\n",
       "  </thead>\n",
       "  <tbody>\n",
       "    <tr>\n",
       "      <th>0</th>\n",
       "      <td>Abebe</td>\n",
       "      <td>Balcha</td>\n",
       "    </tr>\n",
       "    <tr>\n",
       "      <th>1</th>\n",
       "      <td>Hirut</td>\n",
       "      <td>Demse</td>\n",
       "    </tr>\n",
       "    <tr>\n",
       "      <th>2</th>\n",
       "      <td>Eyob</td>\n",
       "      <td>Mekonen</td>\n",
       "    </tr>\n",
       "    <tr>\n",
       "      <th>3</th>\n",
       "      <td>Mikaya</td>\n",
       "      <td>Bahaylu</td>\n",
       "    </tr>\n",
       "    <tr>\n",
       "      <th>4</th>\n",
       "      <td>Lij</td>\n",
       "      <td>Mechael</td>\n",
       "    </tr>\n",
       "    <tr>\n",
       "      <th>5</th>\n",
       "      <td>Tedy</td>\n",
       "      <td>Afro</td>\n",
       "    </tr>\n",
       "  </tbody>\n",
       "</table>\n",
       "</div>"
      ],
      "text/plain": [
       "  First_name Last_name\n",
       "0      Abebe    Balcha\n",
       "1      Hirut     Demse\n",
       "2       Eyob   Mekonen\n",
       "3     Mikaya   Bahaylu\n",
       "4        Lij   Mechael\n",
       "5       Tedy      Afro"
      ]
     },
     "execution_count": 92,
     "metadata": {},
     "output_type": "execute_result"
    }
   ],
   "source": [
    "all_artist = df_add.loc[:,cols]\n",
    "all_artist"
   ]
  },
  {
   "cell_type": "code",
   "execution_count": 97,
   "metadata": {},
   "outputs": [
    {
     "data": {
      "text/html": [
       "<div>\n",
       "<style scoped>\n",
       "    .dataframe tbody tr th:only-of-type {\n",
       "        vertical-align: middle;\n",
       "    }\n",
       "\n",
       "    .dataframe tbody tr th {\n",
       "        vertical-align: top;\n",
       "    }\n",
       "\n",
       "    .dataframe thead th {\n",
       "        text-align: right;\n",
       "    }\n",
       "</style>\n",
       "<table border=\"1\" class=\"dataframe\">\n",
       "  <thead>\n",
       "    <tr style=\"text-align: right;\">\n",
       "      <th></th>\n",
       "      <th>First_name</th>\n",
       "      <th>Last_name</th>\n",
       "    </tr>\n",
       "  </thead>\n",
       "  <tbody>\n",
       "    <tr>\n",
       "      <th>0</th>\n",
       "      <td>Abebe</td>\n",
       "      <td>Balcha</td>\n",
       "    </tr>\n",
       "    <tr>\n",
       "      <th>3</th>\n",
       "      <td>Mikaya</td>\n",
       "      <td>Bahaylu</td>\n",
       "    </tr>\n",
       "  </tbody>\n",
       "</table>\n",
       "</div>"
      ],
      "text/plain": [
       "  First_name Last_name\n",
       "0      Abebe    Balcha\n",
       "3     Mikaya   Bahaylu"
      ]
     },
     "execution_count": 97,
     "metadata": {},
     "output_type": "execute_result"
    }
   ],
   "source": [
    "all_cols = df_add.loc[::3,cols]\n",
    "all_cols"
   ]
  },
  {
   "cell_type": "code",
   "execution_count": 85,
   "metadata": {},
   "outputs": [
    {
     "data": {
      "text/plain": [
       "First_name         Tedy\n",
       "Last_name          Afro\n",
       "Range                10\n",
       "Sequence             20\n",
       "Middle_initials       A\n",
       "Name: 5, dtype: object"
      ]
     },
     "execution_count": 85,
     "metadata": {},
     "output_type": "execute_result"
    }
   ],
   "source": [
    "# retrieving row by loc method\n",
    "# df.loc[row, column]\n",
    "# df.iloc[row, column]\n",
    "item_5th = df_add.loc[5]\n",
    "item_5th"
   ]
  },
  {
   "cell_type": "code",
   "execution_count": null,
   "metadata": {},
   "outputs": [],
   "source": [
    "# retrieving multiple rows by loc method\n",
    "item_5th_and_3rd = df_add.loc[[5,3]]\n",
    "item_5th_and_3rd"
   ]
  },
  {
   "cell_type": "code",
   "execution_count": null,
   "metadata": {},
   "outputs": [],
   "source": [
    "# retrieving two rows and three columns by loc method\n",
    "cols = [\"First_name\", \"Last_name\", \"Middle_initials\"]\n",
    "item_by_col= df_add.loc[[5,3]][cols]\n",
    "item_by_col\n"
   ]
  },
  {
   "cell_type": "code",
   "execution_count": null,
   "metadata": {},
   "outputs": [],
   "source": [
    "# or \n",
    "item_by_col_2 = df_add.loc[[5,3],\n",
    "                   [\"First_name\", \"Last_name\", \"Middle_initials\"]]\n",
    "item_by_col_2\n"
   ]
  },
  {
   "cell_type": "code",
   "execution_count": null,
   "metadata": {},
   "outputs": [],
   "source": [
    "# retrieving all rows and some columns by loc method\n",
    "all_rows = df_add.loc[:, cols]\n",
    "all_rows"
   ]
  },
  {
   "attachments": {},
   "cell_type": "markdown",
   "metadata": {},
   "source": [
    "### 2. Indexing a DataFrame using `.iloc[ ]` :\n",
    "This function allows us to retrieve rows and columns by position. In order to do that, we’ll need to specify the positions of the rows that we want, and the positions of the columns that we want as well. The df.iloc indexer is very similar to df.loc but only uses integer locations to make its selections.\n",
    "\n"
   ]
  },
  {
   "cell_type": "code",
   "execution_count": 98,
   "metadata": {},
   "outputs": [
    {
     "data": {
      "text/html": [
       "<div>\n",
       "<style scoped>\n",
       "    .dataframe tbody tr th:only-of-type {\n",
       "        vertical-align: middle;\n",
       "    }\n",
       "\n",
       "    .dataframe tbody tr th {\n",
       "        vertical-align: top;\n",
       "    }\n",
       "\n",
       "    .dataframe thead th {\n",
       "        text-align: right;\n",
       "    }\n",
       "</style>\n",
       "<table border=\"1\" class=\"dataframe\">\n",
       "  <thead>\n",
       "    <tr style=\"text-align: right;\">\n",
       "      <th></th>\n",
       "      <th>First_name</th>\n",
       "      <th>Last_name</th>\n",
       "      <th>Range</th>\n",
       "      <th>Sequence</th>\n",
       "      <th>Middle_initials</th>\n",
       "    </tr>\n",
       "  </thead>\n",
       "  <tbody>\n",
       "    <tr>\n",
       "      <th>0</th>\n",
       "      <td>Abebe</td>\n",
       "      <td>Balcha</td>\n",
       "      <td>20</td>\n",
       "      <td>15</td>\n",
       "      <td>S</td>\n",
       "    </tr>\n",
       "    <tr>\n",
       "      <th>1</th>\n",
       "      <td>Hirut</td>\n",
       "      <td>Demse</td>\n",
       "      <td>18</td>\n",
       "      <td>16</td>\n",
       "      <td>M</td>\n",
       "    </tr>\n",
       "    <tr>\n",
       "      <th>2</th>\n",
       "      <td>Eyob</td>\n",
       "      <td>Mekonen</td>\n",
       "      <td>16</td>\n",
       "      <td>17</td>\n",
       "      <td>K</td>\n",
       "    </tr>\n",
       "    <tr>\n",
       "      <th>3</th>\n",
       "      <td>Mikaya</td>\n",
       "      <td>Bahaylu</td>\n",
       "      <td>14</td>\n",
       "      <td>18</td>\n",
       "      <td>T</td>\n",
       "    </tr>\n",
       "    <tr>\n",
       "      <th>4</th>\n",
       "      <td>Lij</td>\n",
       "      <td>Mechael</td>\n",
       "      <td>12</td>\n",
       "      <td>19</td>\n",
       "      <td>F</td>\n",
       "    </tr>\n",
       "    <tr>\n",
       "      <th>5</th>\n",
       "      <td>Tedy</td>\n",
       "      <td>Afro</td>\n",
       "      <td>10</td>\n",
       "      <td>20</td>\n",
       "      <td>A</td>\n",
       "    </tr>\n",
       "  </tbody>\n",
       "</table>\n",
       "</div>"
      ],
      "text/plain": [
       "  First_name Last_name  Range  Sequence Middle_initials\n",
       "0      Abebe    Balcha     20        15               S\n",
       "1      Hirut     Demse     18        16               M\n",
       "2       Eyob   Mekonen     16        17               K\n",
       "3     Mikaya   Bahaylu     14        18               T\n",
       "4        Lij   Mechael     12        19               F\n",
       "5       Tedy      Afro     10        20               A"
      ]
     },
     "execution_count": 98,
     "metadata": {},
     "output_type": "execute_result"
    }
   ],
   "source": [
    "df_add"
   ]
  },
  {
   "cell_type": "code",
   "execution_count": 119,
   "metadata": {},
   "outputs": [
    {
     "data": {
      "text/html": [
       "<div>\n",
       "<style scoped>\n",
       "    .dataframe tbody tr th:only-of-type {\n",
       "        vertical-align: middle;\n",
       "    }\n",
       "\n",
       "    .dataframe tbody tr th {\n",
       "        vertical-align: top;\n",
       "    }\n",
       "\n",
       "    .dataframe thead th {\n",
       "        text-align: right;\n",
       "    }\n",
       "</style>\n",
       "<table border=\"1\" class=\"dataframe\">\n",
       "  <thead>\n",
       "    <tr style=\"text-align: right;\">\n",
       "      <th></th>\n",
       "      <th>Last_name</th>\n",
       "      <th>Range</th>\n",
       "      <th>Sequence</th>\n",
       "    </tr>\n",
       "  </thead>\n",
       "  <tbody>\n",
       "    <tr>\n",
       "      <th>1</th>\n",
       "      <td>Demse</td>\n",
       "      <td>18</td>\n",
       "      <td>16</td>\n",
       "    </tr>\n",
       "    <tr>\n",
       "      <th>2</th>\n",
       "      <td>Mekonen</td>\n",
       "      <td>16</td>\n",
       "      <td>17</td>\n",
       "    </tr>\n",
       "    <tr>\n",
       "      <th>3</th>\n",
       "      <td>Bahaylu</td>\n",
       "      <td>14</td>\n",
       "      <td>18</td>\n",
       "    </tr>\n",
       "  </tbody>\n",
       "</table>\n",
       "</div>"
      ],
      "text/plain": [
       "  Last_name  Range  Sequence\n",
       "1     Demse     18        16\n",
       "2   Mekonen     16        17\n",
       "3   Bahaylu     14        18"
      ]
     },
     "execution_count": 119,
     "metadata": {},
     "output_type": "execute_result"
    }
   ],
   "source": [
    "result_df = df_add.iloc[1:4,1:4]\n",
    "result_df"
   ]
  },
  {
   "cell_type": "code",
   "execution_count": 107,
   "metadata": {},
   "outputs": [
    {
     "data": {
      "text/plain": [
       "Range              12\n",
       "Middle_initials     F\n",
       "Name: 4, dtype: object"
      ]
     },
     "execution_count": 107,
     "metadata": {},
     "output_type": "execute_result"
    }
   ],
   "source": [
    "i_4_r_m = df_add.iloc[4,[2,4]]\n",
    "i_4_r_m"
   ]
  },
  {
   "cell_type": "code",
   "execution_count": 109,
   "metadata": {},
   "outputs": [
    {
     "data": {
      "text/html": [
       "<div>\n",
       "<style scoped>\n",
       "    .dataframe tbody tr th:only-of-type {\n",
       "        vertical-align: middle;\n",
       "    }\n",
       "\n",
       "    .dataframe tbody tr th {\n",
       "        vertical-align: top;\n",
       "    }\n",
       "\n",
       "    .dataframe thead th {\n",
       "        text-align: right;\n",
       "    }\n",
       "</style>\n",
       "<table border=\"1\" class=\"dataframe\">\n",
       "  <thead>\n",
       "    <tr style=\"text-align: right;\">\n",
       "      <th></th>\n",
       "      <th>First_name</th>\n",
       "      <th>Last_name</th>\n",
       "      <th>Range</th>\n",
       "      <th>Sequence</th>\n",
       "      <th>Middle_initials</th>\n",
       "    </tr>\n",
       "  </thead>\n",
       "  <tbody>\n",
       "    <tr>\n",
       "      <th>0</th>\n",
       "      <td>Abebe</td>\n",
       "      <td>Balcha</td>\n",
       "      <td>20</td>\n",
       "      <td>15</td>\n",
       "      <td>S</td>\n",
       "    </tr>\n",
       "    <tr>\n",
       "      <th>1</th>\n",
       "      <td>Hirut</td>\n",
       "      <td>Demse</td>\n",
       "      <td>18</td>\n",
       "      <td>16</td>\n",
       "      <td>M</td>\n",
       "    </tr>\n",
       "    <tr>\n",
       "      <th>2</th>\n",
       "      <td>Eyob</td>\n",
       "      <td>Mekonen</td>\n",
       "      <td>16</td>\n",
       "      <td>17</td>\n",
       "      <td>K</td>\n",
       "    </tr>\n",
       "    <tr>\n",
       "      <th>3</th>\n",
       "      <td>Mikaya</td>\n",
       "      <td>Bahaylu</td>\n",
       "      <td>14</td>\n",
       "      <td>18</td>\n",
       "      <td>T</td>\n",
       "    </tr>\n",
       "    <tr>\n",
       "      <th>4</th>\n",
       "      <td>Lij</td>\n",
       "      <td>Mechael</td>\n",
       "      <td>12</td>\n",
       "      <td>19</td>\n",
       "      <td>F</td>\n",
       "    </tr>\n",
       "    <tr>\n",
       "      <th>5</th>\n",
       "      <td>Tedy</td>\n",
       "      <td>Afro</td>\n",
       "      <td>10</td>\n",
       "      <td>20</td>\n",
       "      <td></td>\n",
       "    </tr>\n",
       "  </tbody>\n",
       "</table>\n",
       "</div>"
      ],
      "text/plain": [
       "  First_name Last_name  Range  Sequence Middle_initials\n",
       "0      Abebe    Balcha     20        15               S\n",
       "1      Hirut     Demse     18        16               M\n",
       "2       Eyob   Mekonen     16        17               K\n",
       "3     Mikaya   Bahaylu     14        18               T\n",
       "4        Lij   Mechael     12        19               F\n",
       "5       Tedy      Afro     10        20                "
      ]
     },
     "execution_count": 109,
     "metadata": {},
     "output_type": "execute_result"
    }
   ],
   "source": [
    "# i_4_r_m = df_add.iloc[5,[4]]\n",
    "df_add.iloc[5,[4]] = ''\n",
    "df_add"
   ]
  },
  {
   "cell_type": "code",
   "execution_count": 101,
   "metadata": {},
   "outputs": [
    {
     "data": {
      "text/plain": [
       "First_name          Mikaya\n",
       "Last_name          Bahaylu\n",
       "Range                   14\n",
       "Sequence                18\n",
       "Middle_initials          T\n",
       "Name: 3, dtype: object"
      ]
     },
     "execution_count": 101,
     "metadata": {},
     "output_type": "execute_result"
    }
   ],
   "source": [
    "# retrieving rows by iloc method \n",
    "# df.iloc[row, column] Note both row and column should be intigers \n",
    "row2 = df_add.iloc[3]\n",
    "row2"
   ]
  },
  {
   "cell_type": "code",
   "execution_count": 106,
   "metadata": {},
   "outputs": [
    {
     "data": {
      "text/html": [
       "<div>\n",
       "<style scoped>\n",
       "    .dataframe tbody tr th:only-of-type {\n",
       "        vertical-align: middle;\n",
       "    }\n",
       "\n",
       "    .dataframe tbody tr th {\n",
       "        vertical-align: top;\n",
       "    }\n",
       "\n",
       "    .dataframe thead th {\n",
       "        text-align: right;\n",
       "    }\n",
       "</style>\n",
       "<table border=\"1\" class=\"dataframe\">\n",
       "  <thead>\n",
       "    <tr style=\"text-align: right;\">\n",
       "      <th></th>\n",
       "      <th>First_name</th>\n",
       "      <th>Last_name</th>\n",
       "    </tr>\n",
       "  </thead>\n",
       "  <tbody>\n",
       "    <tr>\n",
       "      <th>3</th>\n",
       "      <td>Mikaya</td>\n",
       "      <td>Bahaylu</td>\n",
       "    </tr>\n",
       "    <tr>\n",
       "      <th>1</th>\n",
       "      <td>Hirut</td>\n",
       "      <td>Demse</td>\n",
       "    </tr>\n",
       "  </tbody>\n",
       "</table>\n",
       "</div>"
      ],
      "text/plain": [
       "  First_name Last_name\n",
       "3     Mikaya   Bahaylu\n",
       "1      Hirut     Demse"
      ]
     },
     "execution_count": 106,
     "metadata": {},
     "output_type": "execute_result"
    }
   ],
   "source": [
    "row_3_1 = df_add.iloc[[3,1], 0:2]=\n",
    "row_3_1"
   ]
  },
  {
   "cell_type": "code",
   "execution_count": null,
   "metadata": {},
   "outputs": [],
   "source": [
    "# retrieving multiple rows by iloc method \n",
    "multiple_rows = df_add.iloc[[3, 5]]\n",
    "multiple_rows"
   ]
  },
  {
   "cell_type": "code",
   "execution_count": null,
   "metadata": {},
   "outputs": [],
   "source": [
    "# retrieving two rows and two columns by iloc method \n",
    "multiple_rows_and_columns = df_add.iloc [[3, 5], [0, 2, 4]]\n",
    "multiple_rows_and_columns"
   ]
  },
  {
   "cell_type": "code",
   "execution_count": null,
   "metadata": {},
   "outputs": [],
   "source": [
    "# retrieving all rows and some columns by iloc method \n",
    "all_rows_and_some_columns = df_add.iloc [:, [0, 2, 4]]\n",
    "all_rows_and_some_columns"
   ]
  },
  {
   "attachments": {},
   "cell_type": "markdown",
   "metadata": {},
   "source": [
    "### Update a value by indezing\n",
    "\n",
    "Let's say `Lij Mechael` want to update his middle initial from 'F' to 'S'"
   ]
  },
  {
   "cell_type": "code",
   "execution_count": null,
   "metadata": {},
   "outputs": [],
   "source": [
    "# let's try to find the the middl name vlaue \n",
    "to_update = 'S'\n",
    "df_add.loc[4,'Middle_initials'] = to_update\n",
    "df_add"
   ]
  },
  {
   "cell_type": "code",
   "execution_count": null,
   "metadata": {},
   "outputs": [],
   "source": [
    "# Method #2\n",
    "# opps our mistake.... it should have veen 'Z' not 'S'. let's convert it back\n",
    "df_add.iloc[4,4] = 'Z'\n",
    "df_add"
   ]
  },
  {
   "cell_type": "code",
   "execution_count": null,
   "metadata": {},
   "outputs": [],
   "source": [
    "df_add.iloc[3,4] = 'xxx'\n",
    "df_add\n"
   ]
  },
  {
   "cell_type": "code",
   "execution_count": null,
   "metadata": {},
   "outputs": [],
   "source": []
  },
  {
   "cell_type": "code",
   "execution_count": null,
   "metadata": {},
   "outputs": [],
   "source": [
    "# df_add['x5'] = \n",
    "df_add['x5'] = df_add['x5'].replace('bar','yyy')\n",
    "df_add\n"
   ]
  },
  {
   "cell_type": "code",
   "execution_count": null,
   "metadata": {},
   "outputs": [],
   "source": [
    "# I want to get the sum and the x1 value when x5 == 'foo'\n",
    "# DataFarme[conditon][colums]\n",
    "df_add[df_add['x5'] == 'foo'][['x1','sum']]"
   ]
  },
  {
   "cell_type": "code",
   "execution_count": null,
   "metadata": {},
   "outputs": [],
   "source": [
    "df_add[(df_add['x5'] == 'foo')==False][['x1','sum']]"
   ]
  },
  {
   "cell_type": "code",
   "execution_count": null,
   "metadata": {},
   "outputs": [],
   "source": []
  },
  {
   "cell_type": "code",
   "execution_count": null,
   "metadata": {},
   "outputs": [],
   "source": []
  },
  {
   "cell_type": "code",
   "execution_count": null,
   "metadata": {},
   "outputs": [],
   "source": [
    "df_add"
   ]
  },
  {
   "cell_type": "code",
   "execution_count": null,
   "metadata": {},
   "outputs": [],
   "source": [
    "# method 2\n",
    "df_add_2 = df.assign(x5=x5)\n",
    "df_add_2"
   ]
  },
  {
   "cell_type": "code",
   "execution_count": null,
   "metadata": {},
   "outputs": [],
   "source": [
    "df"
   ]
  },
  {
   "cell_type": "code",
   "execution_count": null,
   "metadata": {},
   "outputs": [],
   "source": [
    "#  [name, email]                [name, address]\n",
    "#  'sis', 'sis@gmail.com'     ['sisay', '12345 raydale rd']\n",
    "# [name, email, address]\n",
    "# 'sisay','sis@gmail.com','12345 raydale rd']\n",
    "\n",
    "# select table2.name, table1.email, table2.address\n",
    "# from table1\n",
    "# join table 2 on tabl1.name = table2.name"
   ]
  },
  {
   "cell_type": "code",
   "execution_count": null,
   "metadata": {},
   "outputs": [],
   "source": [
    "df_add"
   ]
  },
  {
   "cell_type": "code",
   "execution_count": null,
   "metadata": {},
   "outputs": [],
   "source": [
    "df"
   ]
  },
  {
   "cell_type": "code",
   "execution_count": null,
   "metadata": {},
   "outputs": [],
   "source": [
    "# Merge Two pandas DataFrames -- >> df and df_add\n",
    "df_merge = pd.merge(df[['x3','x4']],  \n",
    "                      df_add,\n",
    "                      on = \"x3\", \n",
    "                      how = \"outer\")\n",
    "df_merge.head(20)\n",
    "# left_on = 'x3', right_on = 'x33'"
   ]
  },
  {
   "cell_type": "code",
   "execution_count": null,
   "metadata": {},
   "outputs": [],
   "source": [
    "df_merge.reindex('x3')"
   ]
  },
  {
   "cell_type": "code",
   "execution_count": null,
   "metadata": {},
   "outputs": [],
   "source": [
    "# pervious columns was \n",
    "# ['x3','x4_x','x1','x2','x4_y','x5','full_name','sum']\n",
    "\n",
    "changed_dict = {}\n",
    "for i in df_merge.columns:\n",
    "    # if i.__contains__('_'):\n",
    "    if '_' in i:\n",
    "        if '_x' in i:\n",
    "            changed_dict[i] = i.split('_')[0]\n",
    "        else:\n",
    "            changed_dict[i] = i.split('_')[0] + '4'\n",
    "\n",
    "# changed_dict will be like {'x4_x': 'x4', 'x4_y':'x44', 'full_name':'full4'}\n",
    "df_merge.rename(columns=changed_dict, inplace=True)\n",
    "\n",
    "# renamed column will have this columns now \n",
    "# ['x3', 'x4', 'x1', 'x2', 'x44', 'x5', 'full4', 'sum']\n"
   ]
  },
  {
   "cell_type": "code",
   "execution_count": null,
   "metadata": {},
   "outputs": [],
   "source": [
    "print(df_merge.columns)\n",
    "\n",
    "print(df_merge.columns)"
   ]
  },
  {
   "cell_type": "code",
   "execution_count": null,
   "metadata": {},
   "outputs": [],
   "source": [
    "di"
   ]
  },
  {
   "cell_type": "code",
   "execution_count": null,
   "metadata": {},
   "outputs": [],
   "source": [
    "new_list = []\n",
    "for i in list(range(1,len(df_merge.columns)+1)):\n",
    "    new_list.append(f'col{i}')\n",
    "\n",
    "# list(range(1,df_merge.shape[1]+1))"
   ]
  },
  {
   "cell_type": "code",
   "execution_count": null,
   "metadata": {},
   "outputs": [],
   "source": [
    "new_list"
   ]
  },
  {
   "cell_type": "code",
   "execution_count": null,
   "metadata": {},
   "outputs": [],
   "source": [
    "# Create copy of DataFrame\n",
    "# Use columns attribute to rename columns \n",
    "df_renamed = df_merge.copy()\n",
    "df_renamed.columns = new_list\n",
    "df_renamed"
   ]
  },
  {
   "cell_type": "code",
   "execution_count": null,
   "metadata": {},
   "outputs": [],
   "source": [
    "# filter certaion rows ==> where x1 == 'x'\n",
    "# df_filterd = "
   ]
  },
  {
   "cell_type": "code",
   "execution_count": null,
   "metadata": {},
   "outputs": [],
   "source": [
    "# Add new rows to pandas DataFrame\n",
    "new_row = ['z',33,'s', 44,'f',22,11,'tat']\n",
    "df_add_new = df_renamed.copy()\n",
    "df_add_new.loc"
   ]
  },
  {
   "cell_type": "code",
   "execution_count": null,
   "metadata": {},
   "outputs": [],
   "source": [
    "# Append Rows of Two pandas DataFrames"
   ]
  },
  {
   "cell_type": "code",
   "execution_count": null,
   "metadata": {},
   "outputs": [],
   "source": [
    "# Sort Rows of pandas DataFrame"
   ]
  },
  {
   "cell_type": "code",
   "execution_count": null,
   "metadata": {},
   "outputs": [],
   "source": [
    "# Replace Values in pandas DataFrame"
   ]
  },
  {
   "cell_type": "code",
   "execution_count": null,
   "metadata": {},
   "outputs": [],
   "source": [
    "# Replace NaN Values in pandas DataFrame\n",
    "data_nan = pd.DataFrame({\"x1\":[\"x\", \"x\", float('NaN'), \"y\", float('NaN'), \"y\"], # Create pandas DataFrame\n",
    "                         \"x2\":range(24, 30),\n",
    "                         \"x3\":[\"a\", \"b\", \"c\", \"d\", \"e\", \"f\"],\n",
    "                         \"x4\":range(11, 5, - 1)})"
   ]
  },
  {
   "cell_type": "code",
   "execution_count": null,
   "metadata": {},
   "outputs": [],
   "source": [
    "data_blanks = data_nan.copy()                              # Duplicate data\n",
    "data_blanks = data_blanks.fillna(\"\")                       # Fill NaN with blanks\n",
    "print(data_blanks)    "
   ]
  },
  {
   "attachments": {},
   "cell_type": "markdown",
   "metadata": {},
   "source": [
    "### Breakout \n",
    "#### Calculate BMI\n",
    "\n",
    "```python\n",
    "data = {\n",
    "        'name': ['Nati', 'Fikre', 'Zena', 'Hana'],\n",
    "        'weight': [84, 79, 67, 52],\n",
    "        'height': [183, 186, 158, 155],\n",
    "        'smoke_or_not': ['no', 'yes', 'yes', 'no']\n",
    "        }\n",
    "  \n",
    "# Create DataFrame\n",
    "bmi = pd.DataFrame(data)\n",
    "bmi\n",
    "```\n",
    "\n",
    "Task:\n",
    "* Create a new column named `BMI` and calculate the body mass index\n",
    "* Identify customers over `25` bmi\n",
    "* Draft a sample email noting that there is a new workout routine to help them out. "
   ]
  },
  {
   "cell_type": "code",
   "execution_count": null,
   "metadata": {},
   "outputs": [],
   "source": []
  },
  {
   "cell_type": "code",
   "execution_count": null,
   "metadata": {},
   "outputs": [],
   "source": [
    "\n"
   ]
  }
 ],
 "metadata": {
  "kernelspec": {
   "display_name": "base",
   "language": "python",
   "name": "python3"
  },
  "language_info": {
   "codemirror_mode": {
    "name": "ipython",
    "version": 3
   },
   "file_extension": ".py",
   "mimetype": "text/x-python",
   "name": "python",
   "nbconvert_exporter": "python",
   "pygments_lexer": "ipython3",
   "version": "3.9.6"
  },
  "orig_nbformat": 4,
  "vscode": {
   "interpreter": {
    "hash": "cd0f3f1cef4a370d927ed842e03ad8243c54277f7408c0e067eaaa06f4980199"
   }
  }
 },
 "nbformat": 4,
 "nbformat_minor": 2
}
