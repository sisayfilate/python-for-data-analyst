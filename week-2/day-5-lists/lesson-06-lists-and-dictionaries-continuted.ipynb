{
 "cells": [
  {
   "cell_type": "markdown",
   "metadata": {},
   "source": [
    "### Yummy... vegi combo\n",
    "<img src=\"images/Ethiopian-vegi-combo.png\" style=\"width:750px;height:350px\"/>"
   ]
  },
  {
   "cell_type": "markdown",
   "metadata": {},
   "source": [
    "Two Ethiopian buddies are catching up after a long time and they decided to go for vegi combo. They sat in the corner of the restaurant and they ordered a six platter."
   ]
  },
  {
   "cell_type": "code",
   "execution_count": 93,
   "metadata": {},
   "outputs": [
    {
     "data": {
      "text/plain": [
       "['Shiro',\n",
       " 'Gomen',\n",
       " 'Mesir Wot',\n",
       " 'Kik Alicha',\n",
       " 'Keyser',\n",
       " 'Defen Mesir',\n",
       " 'Injera']"
      ]
     },
     "execution_count": 93,
     "metadata": {},
     "output_type": "execute_result"
    }
   ],
   "source": [
    "six_platter = [\"Shiro\", \"Gomen\", \"Mesir Wot\", \"Kik Alicha\", \"Keyser\", \"Defen Mesir\", \"Injera\"]\n",
    "six_platter"
   ]
  },
  {
   "cell_type": "markdown",
   "metadata": {},
   "source": [
    "A humble waitress asked them if they wanted anything else. They told her they wanted `\"Seneg\"`. Let's add it "
   ]
  },
  {
   "cell_type": "code",
   "execution_count": 94,
   "metadata": {},
   "outputs": [
    {
     "data": {
      "text/plain": [
       "['Shiro',\n",
       " 'Gomen',\n",
       " 'Mesir Wot',\n",
       " 'Kik Alicha',\n",
       " 'Keyser',\n",
       " 'Defen Mesir',\n",
       " 'Injera',\n",
       " 'Seneg']"
      ]
     },
     "execution_count": 94,
     "metadata": {},
     "output_type": "execute_result"
    }
   ],
   "source": [
    "six_platter.append(\"Seneg\")\n",
    "six_platter"
   ]
  },
  {
   "cell_type": "code",
   "execution_count": 95,
   "metadata": {},
   "outputs": [
    {
     "data": {
      "text/plain": [
       "['Shiro',\n",
       " 'Awaze',\n",
       " 'Gomen',\n",
       " 'Mesir Wot',\n",
       " 'Kik Alicha',\n",
       " 'Keyser',\n",
       " 'Defen Mesir',\n",
       " 'Injera',\n",
       " 'Seneg']"
      ]
     },
     "execution_count": 95,
     "metadata": {},
     "output_type": "execute_result"
    }
   ],
   "source": [
    "# or we can insert at paricular index \n",
    "six_platter.insert(1,\"Awaze\")\n",
    "six_platter"
   ]
  },
  {
   "cell_type": "markdown",
   "metadata": {},
   "source": [
    "As the waiterss turn around and start heading to the kitchen, one of their good buddies called and asked where they at. They told me they are about to order a vegi combo. He asked them to upgrade it to a ten platter. "
   ]
  },
  {
   "cell_type": "code",
   "execution_count": 96,
   "metadata": {},
   "outputs": [
    {
     "data": {
      "text/plain": [
       "['Shiro',\n",
       " 'Awaze',\n",
       " 'Gomen',\n",
       " 'Mesir Wot',\n",
       " 'Kik Alicha',\n",
       " 'Keyser',\n",
       " 'Defen Mesir',\n",
       " 'Injera',\n",
       " 'Seneg',\n",
       " 'Fosolia',\n",
       " 'Atkilt Wot',\n",
       " 'Shiro Firfir',\n",
       " 'Timatim Salata']"
      ]
     },
     "execution_count": 96,
     "metadata": {},
     "output_type": "execute_result"
    }
   ],
   "source": [
    "six_platter.extend([\"Fosolia\",\"Atkilt Wot\",\"Shiro Firfir\",\"Timatim Salata\"])\n",
    "six_platter"
   ]
  },
  {
   "cell_type": "markdown",
   "metadata": {},
   "source": [
    "opps they forgot to order the lunch with `\"Ethiopian Ingera\"`. Let's substitute it now."
   ]
  },
  {
   "cell_type": "code",
   "execution_count": 97,
   "metadata": {},
   "outputs": [
    {
     "data": {
      "text/plain": [
       "7"
      ]
     },
     "execution_count": 97,
     "metadata": {},
     "output_type": "execute_result"
    }
   ],
   "source": [
    "six_platter.index('Injera')\n",
    "# six_platter.remove(\"Injera\")"
   ]
  },
  {
   "cell_type": "code",
   "execution_count": 98,
   "metadata": {},
   "outputs": [
    {
     "data": {
      "text/plain": [
       "['Shiro',\n",
       " 'Awaze',\n",
       " 'Gomen',\n",
       " 'Mesir Wot',\n",
       " 'Kik Alicha',\n",
       " 'Keyser',\n",
       " 'Defen Mesir',\n",
       " 'Ethiopian Ingera',\n",
       " 'Seneg',\n",
       " 'Fosolia',\n",
       " 'Atkilt Wot',\n",
       " 'Shiro Firfir',\n",
       " 'Timatim Salata']"
      ]
     },
     "execution_count": 98,
     "metadata": {},
     "output_type": "execute_result"
    }
   ],
   "source": [
    "six_platter[7] = \"Ethiopian Ingera\"\n",
    "# six_platter.append(\"Ethiopian Ingera\")\n",
    "six_platter"
   ]
  },
  {
   "cell_type": "markdown",
   "metadata": {},
   "source": [
    "Let's sort our order "
   ]
  },
  {
   "cell_type": "code",
   "execution_count": 99,
   "metadata": {},
   "outputs": [
    {
     "data": {
      "text/plain": [
       "['Atkilt Wot',\n",
       " 'Awaze',\n",
       " 'Defen Mesir',\n",
       " 'Ethiopian Ingera',\n",
       " 'Fosolia',\n",
       " 'Gomen',\n",
       " 'Keyser',\n",
       " 'Kik Alicha',\n",
       " 'Mesir Wot',\n",
       " 'Seneg',\n",
       " 'Shiro',\n",
       " 'Shiro Firfir',\n",
       " 'Timatim Salata']"
      ]
     },
     "execution_count": 99,
     "metadata": {},
     "output_type": "execute_result"
    }
   ],
   "source": [
    "six_platter.sort()\n",
    "six_platter"
   ]
  },
  {
   "cell_type": "code",
   "execution_count": 100,
   "metadata": {},
   "outputs": [
    {
     "data": {
      "text/plain": [
       "'Timatim Salata'"
      ]
     },
     "execution_count": 100,
     "metadata": {},
     "output_type": "execute_result"
    }
   ],
   "source": [
    "six_platter.pop()"
   ]
  },
  {
   "cell_type": "code",
   "execution_count": 101,
   "metadata": {},
   "outputs": [
    {
     "data": {
      "text/plain": [
       "['Atkilt Wot',\n",
       " 'Awaze',\n",
       " 'Defen Mesir',\n",
       " 'Ethiopian Ingera',\n",
       " 'Fosolia',\n",
       " 'Gomen',\n",
       " 'Keyser',\n",
       " 'Kik Alicha',\n",
       " 'Mesir Wot',\n",
       " 'Seneg',\n",
       " 'Shiro']"
      ]
     },
     "execution_count": 101,
     "metadata": {},
     "output_type": "execute_result"
    }
   ],
   "source": [
    "six_platter.remove(\"Shiro Firfir\")\n",
    "six_platter"
   ]
  },
  {
   "cell_type": "code",
   "execution_count": 102,
   "metadata": {},
   "outputs": [
    {
     "data": {
      "text/plain": [
       "11"
      ]
     },
     "execution_count": 102,
     "metadata": {},
     "output_type": "execute_result"
    }
   ],
   "source": [
    "len(six_platter)"
   ]
  },
  {
   "cell_type": "markdown",
   "metadata": {},
   "source": [
    "Let's do some more indexing"
   ]
  },
  {
   "cell_type": "code",
   "execution_count": 103,
   "metadata": {},
   "outputs": [
    {
     "data": {
      "text/plain": [
       "'Defen Mesir'"
      ]
     },
     "execution_count": 103,
     "metadata": {},
     "output_type": "execute_result"
    }
   ],
   "source": [
    "six_platter[2]"
   ]
  },
  {
   "cell_type": "code",
   "execution_count": 104,
   "metadata": {},
   "outputs": [
    {
     "name": "stdout",
     "output_type": "stream",
     "text": [
      "['Atkilt Wot', 'Awaze', 'Defen Mesir']\n",
      "my favorit choises are: Atkilt Wot, Awaze, Defen Mesir, and Shiro.\n"
     ]
    }
   ],
   "source": [
    "print(six_platter[:3])\n",
    "# or six_platter[0:4]\n",
    "print(\"my favorit choises are: \" + \n",
    "    \", \".join(six_platter[:3]) + \n",
    "    \", and \" + six_platter[-1] + '.')"
   ]
  },
  {
   "cell_type": "code",
   "execution_count": 105,
   "metadata": {},
   "outputs": [
    {
     "data": {
      "text/plain": [
       "['Atkilt Wot', 'Ethiopian Ingera', 'Keyser', 'Seneg']"
      ]
     },
     "execution_count": 105,
     "metadata": {},
     "output_type": "execute_result"
    }
   ],
   "source": [
    "six_platter[::3]"
   ]
  },
  {
   "cell_type": "code",
   "execution_count": 106,
   "metadata": {},
   "outputs": [
    {
     "data": {
      "text/plain": [
       "['Seneg', 'Shiro']"
      ]
     },
     "execution_count": 106,
     "metadata": {},
     "output_type": "execute_result"
    }
   ],
   "source": [
    "six_platter[-2:]"
   ]
  },
  {
   "cell_type": "code",
   "execution_count": 107,
   "metadata": {},
   "outputs": [
    {
     "data": {
      "text/plain": [
       "[]"
      ]
     },
     "execution_count": 107,
     "metadata": {},
     "output_type": "execute_result"
    }
   ],
   "source": [
    "six_platter.clear()\n",
    "six_platter"
   ]
  },
  {
   "cell_type": "code",
   "execution_count": 108,
   "metadata": {},
   "outputs": [],
   "source": [
    "del six_platter"
   ]
  },
  {
   "cell_type": "code",
   "execution_count": 109,
   "metadata": {},
   "outputs": [
    {
     "ename": "NameError",
     "evalue": "name 'six_platter' is not defined",
     "output_type": "error",
     "traceback": [
      "\u001b[0;31m---------------------------------------------------------------------------\u001b[0m",
      "\u001b[0;31mNameError\u001b[0m                                 Traceback (most recent call last)",
      "\u001b[0;32m/var/folders/q4/y7xqp5c55f3c58vcqh3nb1q80000gn/T/ipykernel_13938/3613526116.py\u001b[0m in \u001b[0;36m<module>\u001b[0;34m\u001b[0m\n\u001b[0;32m----> 1\u001b[0;31m \u001b[0msix_platter\u001b[0m\u001b[0;34m\u001b[0m\u001b[0;34m\u001b[0m\u001b[0m\n\u001b[0m",
      "\u001b[0;31mNameError\u001b[0m: name 'six_platter' is not defined"
     ]
    }
   ],
   "source": [
    "six_platter"
   ]
  },
  {
   "cell_type": "markdown",
   "metadata": {},
   "source": [
    "##### Dictionaries"
   ]
  },
  {
   "cell_type": "markdown",
   "metadata": {},
   "source": [
    "Dictionaries let you assign **key** and **value** pairs. \n",
    "\n",
    "Rather than using **indexing** you use **keys** to return values.\n",
    "\n",
    "```python\n",
    "vegi_combo_dict = {'ingredient1': 'shiro', 'ingredient2': 'miser', 'ingredient3': 'alecha'}\n",
    "```\n",
    "To get an element in the dictionary:\n",
    "```python\n",
    "print(vegi_combo_dict['ingredient2'])\n",
    "```\n",
    "\n",
    "Update your vegi_combo_dict to be a dictionary. Make sure to run `type()` on your dictionary to confirm it is successful."
   ]
  },
  {
   "cell_type": "markdown",
   "metadata": {},
   "source": [
    "Strings can contain numbers as well. It may look like 42, but it if it wrapped with `'42'`, then it is a string. See the difference below."
   ]
  },
  {
   "cell_type": "code",
   "execution_count": 110,
   "metadata": {},
   "outputs": [],
   "source": [
    "vegi_combo_dict = {'ingredient1': 'shiro', 'ingredient2': 'miser', 'ingredient3': 'alecha'}"
   ]
  },
  {
   "cell_type": "code",
   "execution_count": 111,
   "metadata": {},
   "outputs": [],
   "source": [
    "vegi_combo_dict['ingredient4'] = 'fosolia'"
   ]
  },
  {
   "cell_type": "code",
   "execution_count": 112,
   "metadata": {},
   "outputs": [
    {
     "data": {
      "text/plain": [
       "{'ingredient1': 'shiro',\n",
       " 'ingredient2': 'miser',\n",
       " 'ingredient3': 'alecha',\n",
       " 'ingredient4': 'fosolia',\n",
       " 'ingredients': ['1', '2', '3']}"
      ]
     },
     "execution_count": 112,
     "metadata": {},
     "output_type": "execute_result"
    }
   ],
   "source": [
    "vegi_combo_dict['ingredients'] = ['1','2','3']\n",
    "vegi_combo_dict"
   ]
  },
  {
   "cell_type": "markdown",
   "metadata": {},
   "source": [
    "Now, to make it even better, you can nest **DICTIONARIES** INSIDE of **LISTS**\n",
    "\n",
    "```python\n",
    "group_lunch = [\n",
    "    {'ingredient1': 'shiro', 'ingredient2': 'miser', 'ingredient3': 'alecha'}\n",
    "    {'ingredient1': 'fosolia', 'ingredient2': 'atkilt wot', 'ingredient3': 'gomen'}\n",
    "    {'ingredient1': 'keyser', 'ingredient2': 'kik alicha', 'ingredient3': 'shiro firfir'}\n",
    "]\n",
    "```\n",
    "\n",
    "try calling elements of group lunch and see what you get!"
   ]
  },
  {
   "cell_type": "code",
   "execution_count": 113,
   "metadata": {},
   "outputs": [],
   "source": [
    "group_lunch = [\n",
    "    {'ingredient1': 'shiro', 'ingredient2': 'miser', 'ingredient3': 'alecha'},\n",
    "    {'ingredient1': 'fosolia', 'ingredient2': 'atkilt wot', 'ingredient3': 'gomen'},\n",
    "    {'ingredient1': 'keyser', 'ingredient2': 'kik alicha', 'ingredient3': 'shiro firfir'}\n",
    "]"
   ]
  },
  {
   "cell_type": "code",
   "execution_count": 114,
   "metadata": {},
   "outputs": [
    {
     "data": {
      "text/plain": [
       "3"
      ]
     },
     "execution_count": 114,
     "metadata": {},
     "output_type": "execute_result"
    }
   ],
   "source": [
    "len(group_lunch)"
   ]
  },
  {
   "cell_type": "code",
   "execution_count": 115,
   "metadata": {},
   "outputs": [
    {
     "data": {
      "text/plain": [
       "{'ingredient1': 'keyser',\n",
       " 'ingredient2': 'kik alicha',\n",
       " 'ingredient3': 'shiro firfir'}"
      ]
     },
     "execution_count": 115,
     "metadata": {},
     "output_type": "execute_result"
    }
   ],
   "source": [
    "group_lunch[2]"
   ]
  },
  {
   "cell_type": "code",
   "execution_count": 116,
   "metadata": {},
   "outputs": [
    {
     "data": {
      "text/plain": [
       "'kik alicha'"
      ]
     },
     "execution_count": 116,
     "metadata": {},
     "output_type": "execute_result"
    }
   ],
   "source": [
    "group_lunch[2]['ingredient2']"
   ]
  },
  {
   "cell_type": "code",
   "execution_count": 117,
   "metadata": {},
   "outputs": [
    {
     "name": "stdout",
     "output_type": "stream",
     "text": [
      "alecha\n",
      "gomen\n",
      "shiro firfir\n"
     ]
    }
   ],
   "source": [
    "for lunch in group_lunch:\n",
    "    print(lunch['ingredient3'])"
   ]
  },
  {
   "cell_type": "code",
   "execution_count": 118,
   "metadata": {},
   "outputs": [
    {
     "name": "stdout",
     "output_type": "stream",
     "text": [
      "('ingredient1', 'shiro')\n",
      "('ingredient2', 'miser')\n",
      "('ingredient3', 'alecha')\n",
      "('ingredient4', 'fosolia')\n",
      "('ingredients', ['1', '2', '3'])\n"
     ]
    }
   ],
   "source": [
    "for xyz in vegi_combo_dict.items():\n",
    "    print(xyz)"
   ]
  },
  {
   "cell_type": "code",
   "execution_count": null,
   "metadata": {},
   "outputs": [],
   "source": []
  },
  {
   "cell_type": "markdown",
   "metadata": {},
   "source": [
    "### Reflection:\n",
    "\n",
    "What do you think of this exercise?"
   ]
  }
 ],
 "metadata": {
  "kernelspec": {
   "display_name": "Python 3.10.5 64-bit (windows store)",
   "language": "python",
   "name": "python3"
  },
  "language_info": {
   "codemirror_mode": {
    "name": "ipython",
    "version": 3
   },
   "file_extension": ".py",
   "mimetype": "text/x-python",
   "name": "python",
   "nbconvert_exporter": "python",
   "pygments_lexer": "ipython3",
   "version": "3.10.5"
  },
  "vscode": {
   "interpreter": {
    "hash": "08186259f9d8116b0330631eae567afe9313c268a7735ff944f3491685de6cdc"
   }
  }
 },
 "nbformat": 4,
 "nbformat_minor": 2
}
